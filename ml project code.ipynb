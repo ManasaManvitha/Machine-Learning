{
  "cells": [
    {
      "cell_type": "markdown",
      "metadata": {
        "id": "EXlourxWKRFN"
      },
      "source": [
        "# **MACHINE LEARNING PROJECT**"
      ]
    },
    {
      "cell_type": "markdown",
      "metadata": {
        "id": "zFkhF9VMJ0Re"
      },
      "source": [
        "Importing the necessary headers"
      ]
    },
    {
      "cell_type": "code",
      "execution_count": 1,
      "metadata": {
        "id": "DnkKJC_rWCfC"
      },
      "outputs": [],
      "source": [
        "import pandas as pd\n",
        "import numpy as np\n",
        "import matplotlib.pyplot as plt\n",
        "import seaborn as sns\n"
      ]
    },
    {
      "cell_type": "markdown",
      "metadata": {
        "id": "BegBFaDaJ7xW"
      },
      "source": [
        "Loading the datasets\n",
        "\n",
        "1.caract\n",
        "2.lieux\n",
        "3.usagers\n",
        "4.vehicules"
      ]
    },
    {
      "cell_type": "code",
      "execution_count": 2,
      "metadata": {
        "colab": {
          "base_uri": "https://localhost:8080/"
        },
        "id": "iUu5KjBjWWUN",
        "outputId": "f7e89338-47a1-48c9-a145-7e26cc012ba3"
      },
      "outputs": [
        {
          "output_type": "stream",
          "name": "stderr",
          "text": [
            "<ipython-input-2-2d73ff643b4d>:3: DtypeWarning: Columns (12) have mixed types. Specify dtype option on import or set low_memory=False.\n",
            "  l_df = pd.read_csv('/content/lieux-2023.csv',delimiter=';')\n"
          ]
        }
      ],
      "source": [
        "# loading the datasets\n",
        "c_df = pd.read_csv('/content/caract-2023.csv',delimiter=';')\n",
        "l_df = pd.read_csv('/content/lieux-2023.csv',delimiter=';')\n",
        "u_df = pd.read_csv('/content/usagers-2023.csv',delimiter=';')\n",
        "v_df = pd.read_csv('/content/vehicules-2023.csv',delimiter=';')"
      ]
    },
    {
      "cell_type": "markdown",
      "metadata": {
        "id": "dn8LeMYvKKPe"
      },
      "source": [
        "Displaying the shape of the datasets"
      ]
    },
    {
      "cell_type": "code",
      "execution_count": 3,
      "metadata": {
        "colab": {
          "base_uri": "https://localhost:8080/"
        },
        "id": "e24ZOmGEXXNu",
        "outputId": "a9c83ea8-fa51-47ea-e8bd-2e9ff1b1b3ea"
      },
      "outputs": [
        {
          "output_type": "stream",
          "name": "stdout",
          "text": [
            "Characteristics Dataset Shape: (54822, 15)\n",
            "lieux Dataset Shape: (70860, 18)\n",
            "usagers Dataset Shape: (125789, 16)\n",
            "vehicules Dataset Shape: (93585, 11)\n"
          ]
        }
      ],
      "source": [
        "print(\"Characteristics Dataset Shape:\", c_df.shape)\n",
        "print(\"lieux Dataset Shape:\", l_df.shape)\n",
        "print(\"usagers Dataset Shape:\", u_df.shape)\n",
        "print(\"vehicules Dataset Shape:\", v_df.shape)"
      ]
    },
    {
      "cell_type": "markdown",
      "metadata": {
        "id": "3hpRVaSgKfpb"
      },
      "source": [
        "Accident characteristics -  dataset"
      ]
    },
    {
      "cell_type": "code",
      "execution_count": 4,
      "metadata": {
        "colab": {
          "base_uri": "https://localhost:8080/"
        },
        "id": "5qi-vT6vX0uh",
        "outputId": "eea78313-b149-4170-c77e-d347f7c8fbd7"
      },
      "outputs": [
        {
          "output_type": "stream",
          "name": "stdout",
          "text": [
            "Characteristics Data Info:\n",
            "<class 'pandas.core.frame.DataFrame'>\n",
            "RangeIndex: 54822 entries, 0 to 54821\n",
            "Data columns (total 15 columns):\n",
            " #   Column   Non-Null Count  Dtype \n",
            "---  ------   --------------  ----- \n",
            " 0   Num_Acc  54822 non-null  int64 \n",
            " 1   jour     54822 non-null  int64 \n",
            " 2   mois     54822 non-null  int64 \n",
            " 3   an       54822 non-null  int64 \n",
            " 4   hrmn     54822 non-null  object\n",
            " 5   lum      54822 non-null  int64 \n",
            " 6   dep      54822 non-null  object\n",
            " 7   com      54822 non-null  object\n",
            " 8   agg      54822 non-null  int64 \n",
            " 9   int      54822 non-null  int64 \n",
            " 10  atm      54822 non-null  int64 \n",
            " 11  col      54822 non-null  int64 \n",
            " 12  adr      53433 non-null  object\n",
            " 13  lat      54822 non-null  object\n",
            " 14  long     54822 non-null  object\n",
            "dtypes: int64(9), object(6)\n",
            "memory usage: 6.3+ MB\n",
            "None\n",
            "        Num_Acc  jour  mois    an   hrmn  lum dep    com  agg  int  atm  col  \\\n",
            "0  202300000001     7     5  2023  06:00    1  75  75101    2    4    2    7   \n",
            "1  202300000002     7     5  2023  05:30    5  94  94080    2    1    3    6   \n",
            "2  202300000003     7     5  2023  20:50    1  94  94022    2    3    2    1   \n",
            "3  202300000004     6     5  2023  23:57    5  94  94078    2    1    3    5   \n",
            "4  202300000005     7     5  2023  00:50    5  94  94068    2    2    3    3   \n",
            "\n",
            "                         adr          lat        long  \n",
            "0              RUE DE RIVOLI  48,86638600  2,32347100  \n",
            "1            Avenue de Paris  48,84547782  2,42868146  \n",
            "2  Avenue du Général Leclerc  48,76240000  2,40655000  \n",
            "3               Rue de Paris  48,73248432  2,44687575  \n",
            "4       56bis Avenue Raspail  48,78581000  2,49217000  \n"
          ]
        }
      ],
      "source": [
        "#Displaying the accident characteristics\n",
        "print(\"Characteristics Data Info:\")\n",
        "print(c_df.info())\n",
        "print(c_df.head())"
      ]
    },
    {
      "cell_type": "markdown",
      "metadata": {
        "id": "8Vriv57nKnJs"
      },
      "source": [
        "Accident locations - dataset"
      ]
    },
    {
      "cell_type": "code",
      "execution_count": 5,
      "metadata": {
        "colab": {
          "base_uri": "https://localhost:8080/"
        },
        "id": "B9SQCljkYqH9",
        "outputId": "7ee575c2-f4f5-47a7-be9f-eab8fb828bbf"
      },
      "outputs": [
        {
          "output_type": "stream",
          "name": "stdout",
          "text": [
            "Location Data Info:\n",
            "<class 'pandas.core.frame.DataFrame'>\n",
            "RangeIndex: 70860 entries, 0 to 70859\n",
            "Data columns (total 18 columns):\n",
            " #   Column   Non-Null Count  Dtype \n",
            "---  ------   --------------  ----- \n",
            " 0   Num_Acc  70860 non-null  int64 \n",
            " 1   catr     70860 non-null  int64 \n",
            " 2   voie     58113 non-null  object\n",
            " 3   v1       70860 non-null  int64 \n",
            " 4   v2       5884 non-null   object\n",
            " 5   circ     70860 non-null  int64 \n",
            " 6   nbv      70860 non-null  object\n",
            " 7   vosp     70860 non-null  int64 \n",
            " 8   prof     70860 non-null  int64 \n",
            " 9   pr       70860 non-null  object\n",
            " 10  pr1      70860 non-null  object\n",
            " 11  plan     70860 non-null  int64 \n",
            " 12  lartpc   31 non-null     object\n",
            " 13  larrout  70860 non-null  object\n",
            " 14  surf     70860 non-null  int64 \n",
            " 15  infra    70860 non-null  int64 \n",
            " 16  situ     70860 non-null  int64 \n",
            " 17  vma      70860 non-null  int64 \n",
            "dtypes: int64(11), object(7)\n",
            "memory usage: 9.7+ MB\n",
            "None\n",
            "        Num_Acc  catr                 voie  v1   v2  circ nbv  vosp  prof  \\\n",
            "0  202300000001     4        RUE DE RIVOLI   0  NaN     1   2     0     1   \n",
            "1  202300000001     4  RUE SAINT FLORENTIN   0  NaN     1   1     0     1   \n",
            "2  202300000002     3                  120   0  NaN     2   3     2     1   \n",
            "3  202300000003     3                    5   0  NaN     2   4     0     1   \n",
            "4  202300000003     3                   87   0  NaN     2   4     0     1   \n",
            "\n",
            "    pr  pr1  plan lartpc larrout  surf  infra  situ  vma  \n",
            "0   -1   -1     1    NaN      -1     2      0     1   30  \n",
            "1   -1   -1     1    NaN      -1     2      0     1   30  \n",
            "2   -1   -1     1    NaN      -1     2      0     1   50  \n",
            "3    1    0     1    NaN      -1     2      5     1   50  \n",
            "4    1    0     1    NaN      -1     2      5     1   50  \n"
          ]
        }
      ],
      "source": [
        "#Displaying the accident locations\n",
        "print(\"Location Data Info:\")\n",
        "print(l_df.info())\n",
        "print(l_df.head())"
      ]
    },
    {
      "cell_type": "markdown",
      "metadata": {
        "id": "CwhQp4JaKuUD"
      },
      "source": [
        "Users - dataset"
      ]
    },
    {
      "cell_type": "code",
      "execution_count": 6,
      "metadata": {
        "colab": {
          "base_uri": "https://localhost:8080/"
        },
        "id": "TC7WfiN1Y_3_",
        "outputId": "e966fb14-5e18-444e-9930-9f8338d394ce"
      },
      "outputs": [
        {
          "output_type": "stream",
          "name": "stdout",
          "text": [
            "USERS Data Info:\n",
            "<class 'pandas.core.frame.DataFrame'>\n",
            "RangeIndex: 125789 entries, 0 to 125788\n",
            "Data columns (total 16 columns):\n",
            " #   Column       Non-Null Count   Dtype  \n",
            "---  ------       --------------   -----  \n",
            " 0   Num_Acc      125789 non-null  int64  \n",
            " 1   id_usager    125789 non-null  object \n",
            " 2   id_vehicule  125789 non-null  object \n",
            " 3   num_veh      125789 non-null  object \n",
            " 4   place        125789 non-null  int64  \n",
            " 5   catu         125789 non-null  int64  \n",
            " 6   grav         125789 non-null  int64  \n",
            " 7   sexe         125789 non-null  int64  \n",
            " 8   an_nais      123191 non-null  float64\n",
            " 9   trajet       125789 non-null  int64  \n",
            " 10  secu1        125789 non-null  int64  \n",
            " 11  secu2        125789 non-null  int64  \n",
            " 12  secu3        125789 non-null  int64  \n",
            " 13  locp         125789 non-null  int64  \n",
            " 14  actp         125789 non-null  object \n",
            " 15  etatp        125789 non-null  int64  \n",
            "dtypes: float64(1), int64(11), object(4)\n",
            "memory usage: 15.4+ MB\n",
            "None\n",
            "        Num_Acc    id_usager  id_vehicule num_veh  place  catu  grav  sexe  \\\n",
            "0  202300000001  203 851 184  155 680 557     A01      1     1     4     1   \n",
            "1  202300000002  203 851 182  155 680 556     A01      1     1     1     2   \n",
            "2  202300000002  203 851 183  155 680 556     A01     10     3     3     1   \n",
            "3  202300000003  203 851 180  155 680 554     B01      1     1     3     1   \n",
            "4  202300000003  203 851 181  155 680 555     A01      1     1     1     2   \n",
            "\n",
            "   an_nais  trajet  secu1  secu2  secu3  locp actp  etatp  \n",
            "0   1978.0       5      2      0     -1    -1   -1     -1  \n",
            "1   1997.0       9      1      0     -1    -1   -1     -1  \n",
            "2   1997.0       9      0     -1     -1     2    3      1  \n",
            "3   1987.0       0      2      6      0     0    0     -1  \n",
            "4   1984.0       0      1      0      0     0    0     -1  \n"
          ]
        }
      ],
      "source": [
        "\n",
        "#Displaying the users\n",
        "print(\"USERS Data Info:\")\n",
        "print(u_df.info())\n",
        "print(u_df.head())"
      ]
    },
    {
      "cell_type": "markdown",
      "metadata": {
        "id": "5nfesIZPK18j"
      },
      "source": [
        "Vehicles - dataset"
      ]
    },
    {
      "cell_type": "code",
      "execution_count": 7,
      "metadata": {
        "colab": {
          "base_uri": "https://localhost:8080/"
        },
        "id": "8SxijQsuZQnN",
        "outputId": "de0bdb32-a1ab-459b-b7b5-4eb1022829ac"
      },
      "outputs": [
        {
          "output_type": "stream",
          "name": "stdout",
          "text": [
            "Vehicles Data Info:\n",
            "<class 'pandas.core.frame.DataFrame'>\n",
            "RangeIndex: 93585 entries, 0 to 93584\n",
            "Data columns (total 11 columns):\n",
            " #   Column       Non-Null Count  Dtype  \n",
            "---  ------       --------------  -----  \n",
            " 0   Num_Acc      93585 non-null  int64  \n",
            " 1   id_vehicule  93585 non-null  object \n",
            " 2   num_veh      93585 non-null  object \n",
            " 3   senc         93585 non-null  int64  \n",
            " 4   catv         93585 non-null  int64  \n",
            " 5   obs          93585 non-null  int64  \n",
            " 6   obsm         93585 non-null  int64  \n",
            " 7   choc         93585 non-null  int64  \n",
            " 8   manv         93585 non-null  int64  \n",
            " 9   motor        93585 non-null  int64  \n",
            " 10  occutc       838 non-null    float64\n",
            "dtypes: float64(1), int64(8), object(2)\n",
            "memory usage: 7.9+ MB\n",
            "None\n",
            "        Num_Acc  id_vehicule num_veh  senc  catv  obs  obsm  choc  manv  \\\n",
            "0  202300000001  155 680 557     A01     1    30    0     0     5     1   \n",
            "1  202300000002  155 680 556     A01     2     7    0     1     1     1   \n",
            "2  202300000003  155 680 554     B01     1     2    0     2     1    16   \n",
            "3  202300000003  155 680 555     A01     2     7    0     2     2    15   \n",
            "4  202300000004  155 680 551     B01     1     7    0     2     9     2   \n",
            "\n",
            "   motor  occutc  \n",
            "0      1     NaN  \n",
            "1      1     NaN  \n",
            "2      1     NaN  \n",
            "3      1     NaN  \n",
            "4      4     NaN  \n"
          ]
        }
      ],
      "source": [
        "#Displaying Vehicles Data\n",
        "print(\"Vehicles Data Info:\")\n",
        "print(v_df.info())\n",
        "print(v_df.head())"
      ]
    },
    {
      "cell_type": "markdown",
      "metadata": {
        "id": "BgE1EuHVK75R"
      },
      "source": [
        "**MERGING THE DATASETS ( characteristics, location, users , vehicles)**"
      ]
    },
    {
      "cell_type": "code",
      "execution_count": 8,
      "metadata": {
        "id": "6L8ejl8hZuMy"
      },
      "outputs": [],
      "source": [
        "# merging the datafiles\n",
        "#1 merging c_df & l_df\n",
        "merged_df= c_df.merge(l_df, on='Num_Acc', how= 'inner')\n",
        "#2 merging merged_df & v_df\n",
        "merged_df= merged_df.merge(v_df, on='Num_Acc', how='inner')\n",
        "#3 merging merged_df & u_df\n",
        "merged_df=merged_df.merge(u_df, on='Num_Acc', how='inner')"
      ]
    },
    {
      "cell_type": "markdown",
      "metadata": {
        "id": "h959SXKVLPvj"
      },
      "source": [
        "Displaying the shape of the merged dataset"
      ]
    },
    {
      "cell_type": "code",
      "execution_count": 9,
      "metadata": {
        "colab": {
          "base_uri": "https://localhost:8080/"
        },
        "id": "lzKvLlU8buR-",
        "outputId": "0225557d-4000-41f8-efb2-746f3aab728d"
      },
      "outputs": [
        {
          "output_type": "execute_result",
          "data": {
            "text/plain": [
              "(309341, 57)"
            ]
          },
          "metadata": {},
          "execution_count": 9
        }
      ],
      "source": [
        "merged_df.shape"
      ]
    },
    {
      "cell_type": "markdown",
      "metadata": {
        "id": "3lVOUFqOLU7E"
      },
      "source": [
        "Displaying the merged_df"
      ]
    },
    {
      "cell_type": "code",
      "execution_count": 10,
      "metadata": {
        "colab": {
          "base_uri": "https://localhost:8080/"
        },
        "id": "s_tet2bLJUI0",
        "outputId": "7870d116-71e6-435a-9981-ddf93186b55b"
      },
      "outputs": [
        {
          "output_type": "stream",
          "name": "stdout",
          "text": [
            "<class 'pandas.core.frame.DataFrame'>\n",
            "RangeIndex: 309341 entries, 0 to 309340\n",
            "Data columns (total 57 columns):\n",
            " #   Column         Non-Null Count   Dtype  \n",
            "---  ------         --------------   -----  \n",
            " 0   Num_Acc        309341 non-null  int64  \n",
            " 1   jour           309341 non-null  int64  \n",
            " 2   mois           309341 non-null  int64  \n",
            " 3   an             309341 non-null  int64  \n",
            " 4   hrmn           309341 non-null  object \n",
            " 5   lum            309341 non-null  int64  \n",
            " 6   dep            309341 non-null  object \n",
            " 7   com            309341 non-null  object \n",
            " 8   agg            309341 non-null  int64  \n",
            " 9   int            309341 non-null  int64  \n",
            " 10  atm            309341 non-null  int64  \n",
            " 11  col            309341 non-null  int64  \n",
            " 12  adr            301509 non-null  object \n",
            " 13  lat            309341 non-null  object \n",
            " 14  long           309341 non-null  object \n",
            " 15  catr           309341 non-null  int64  \n",
            " 16  voie           258894 non-null  object \n",
            " 17  v1             309341 non-null  int64  \n",
            " 18  v2             25659 non-null   object \n",
            " 19  circ           309341 non-null  int64  \n",
            " 20  nbv            309341 non-null  object \n",
            " 21  vosp           309341 non-null  int64  \n",
            " 22  prof           309341 non-null  int64  \n",
            " 23  pr             309341 non-null  object \n",
            " 24  pr1            309341 non-null  object \n",
            " 25  plan           309341 non-null  int64  \n",
            " 26  lartpc         160 non-null     object \n",
            " 27  larrout        309341 non-null  object \n",
            " 28  surf           309341 non-null  int64  \n",
            " 29  infra          309341 non-null  int64  \n",
            " 30  situ           309341 non-null  int64  \n",
            " 31  vma            309341 non-null  int64  \n",
            " 32  id_vehicule_x  309341 non-null  object \n",
            " 33  num_veh_x      309341 non-null  object \n",
            " 34  senc           309341 non-null  int64  \n",
            " 35  catv           309341 non-null  int64  \n",
            " 36  obs            309341 non-null  int64  \n",
            " 37  obsm           309341 non-null  int64  \n",
            " 38  choc           309341 non-null  int64  \n",
            " 39  manv           309341 non-null  int64  \n",
            " 40  motor          309341 non-null  int64  \n",
            " 41  occutc         3967 non-null    float64\n",
            " 42  id_usager      309341 non-null  object \n",
            " 43  id_vehicule_y  309341 non-null  object \n",
            " 44  num_veh_y      309341 non-null  object \n",
            " 45  place          309341 non-null  int64  \n",
            " 46  catu           309341 non-null  int64  \n",
            " 47  grav           309341 non-null  int64  \n",
            " 48  sexe           309341 non-null  int64  \n",
            " 49  an_nais        302985 non-null  float64\n",
            " 50  trajet         309341 non-null  int64  \n",
            " 51  secu1          309341 non-null  int64  \n",
            " 52  secu2          309341 non-null  int64  \n",
            " 53  secu3          309341 non-null  int64  \n",
            " 54  locp           309341 non-null  int64  \n",
            " 55  actp           309341 non-null  object \n",
            " 56  etatp          309341 non-null  int64  \n",
            "dtypes: float64(2), int64(36), object(19)\n",
            "memory usage: 134.5+ MB\n",
            "None\n",
            "        Num_Acc  jour  mois    an   hrmn  lum dep    com  agg  int  ...  grav  \\\n",
            "0  202300000001     7     5  2023  06:00    1  75  75101    2    4  ...     4   \n",
            "1  202300000001     7     5  2023  06:00    1  75  75101    2    4  ...     4   \n",
            "2  202300000002     7     5  2023  05:30    5  94  94080    2    1  ...     1   \n",
            "3  202300000002     7     5  2023  05:30    5  94  94080    2    1  ...     3   \n",
            "4  202300000003     7     5  2023  20:50    1  94  94022    2    3  ...     3   \n",
            "\n",
            "   sexe an_nais trajet secu1  secu2 secu3  locp actp  etatp  \n",
            "0     1  1978.0      5     2      0    -1    -1   -1     -1  \n",
            "1     1  1978.0      5     2      0    -1    -1   -1     -1  \n",
            "2     2  1997.0      9     1      0    -1    -1   -1     -1  \n",
            "3     1  1997.0      9     0     -1    -1     2    3      1  \n",
            "4     1  1987.0      0     2      6     0     0    0     -1  \n",
            "\n",
            "[5 rows x 57 columns]\n"
          ]
        }
      ],
      "source": [
        "print(merged_df.info())\n",
        "print(merged_df.head())\n"
      ]
    },
    {
      "cell_type": "markdown",
      "metadata": {
        "id": "8CbJVRnKLcdL"
      },
      "source": [
        "Displaying the columns of the merged_df"
      ]
    },
    {
      "cell_type": "code",
      "execution_count": 11,
      "metadata": {
        "colab": {
          "base_uri": "https://localhost:8080/"
        },
        "id": "qeIaU24lJg50",
        "outputId": "272e5fff-6057-43ab-964f-d47b5ad8e117"
      },
      "outputs": [
        {
          "output_type": "execute_result",
          "data": {
            "text/plain": [
              "Index(['Num_Acc', 'jour', 'mois', 'an', 'hrmn', 'lum', 'dep', 'com', 'agg',\n",
              "       'int', 'atm', 'col', 'adr', 'lat', 'long', 'catr', 'voie', 'v1', 'v2',\n",
              "       'circ', 'nbv', 'vosp', 'prof', 'pr', 'pr1', 'plan', 'lartpc', 'larrout',\n",
              "       'surf', 'infra', 'situ', 'vma', 'id_vehicule_x', 'num_veh_x', 'senc',\n",
              "       'catv', 'obs', 'obsm', 'choc', 'manv', 'motor', 'occutc', 'id_usager',\n",
              "       'id_vehicule_y', 'num_veh_y', 'place', 'catu', 'grav', 'sexe',\n",
              "       'an_nais', 'trajet', 'secu1', 'secu2', 'secu3', 'locp', 'actp',\n",
              "       'etatp'],\n",
              "      dtype='object')"
            ]
          },
          "metadata": {},
          "execution_count": 11
        }
      ],
      "source": [
        "merged_df.columns"
      ]
    },
    {
      "cell_type": "markdown",
      "metadata": {
        "id": "qqh8pZj1Lgx0"
      },
      "source": [
        "Displaying few rows of merged_df dataset"
      ]
    },
    {
      "cell_type": "code",
      "execution_count": 12,
      "metadata": {
        "colab": {
          "base_uri": "https://localhost:8080/",
          "height": 392
        },
        "id": "s3jihc18JrOV",
        "outputId": "6809a742-3219-416f-d091-8302e72a2396"
      },
      "outputs": [
        {
          "output_type": "execute_result",
          "data": {
            "text/plain": [
              "        Num_Acc  jour  mois    an   hrmn  lum dep    com  agg  int  ...  grav  \\\n",
              "0  202300000001     7     5  2023  06:00    1  75  75101    2    4  ...     4   \n",
              "1  202300000001     7     5  2023  06:00    1  75  75101    2    4  ...     4   \n",
              "2  202300000002     7     5  2023  05:30    5  94  94080    2    1  ...     1   \n",
              "3  202300000002     7     5  2023  05:30    5  94  94080    2    1  ...     3   \n",
              "4  202300000003     7     5  2023  20:50    1  94  94022    2    3  ...     3   \n",
              "5  202300000003     7     5  2023  20:50    1  94  94022    2    3  ...     1   \n",
              "6  202300000003     7     5  2023  20:50    1  94  94022    2    3  ...     3   \n",
              "7  202300000003     7     5  2023  20:50    1  94  94022    2    3  ...     1   \n",
              "8  202300000003     7     5  2023  20:50    1  94  94022    2    3  ...     3   \n",
              "9  202300000003     7     5  2023  20:50    1  94  94022    2    3  ...     1   \n",
              "\n",
              "   sexe an_nais trajet secu1  secu2 secu3  locp actp  etatp  \n",
              "0     1  1978.0      5     2      0    -1    -1   -1     -1  \n",
              "1     1  1978.0      5     2      0    -1    -1   -1     -1  \n",
              "2     2  1997.0      9     1      0    -1    -1   -1     -1  \n",
              "3     1  1997.0      9     0     -1    -1     2    3      1  \n",
              "4     1  1987.0      0     2      6     0     0    0     -1  \n",
              "5     2  1984.0      0     1      0     0     0    0     -1  \n",
              "6     1  1987.0      0     2      6     0     0    0     -1  \n",
              "7     2  1984.0      0     1      0     0     0    0     -1  \n",
              "8     1  1987.0      0     2      6     0     0    0     -1  \n",
              "9     2  1984.0      0     1      0     0     0    0     -1  \n",
              "\n",
              "[10 rows x 57 columns]"
            ],
            "text/html": [
              "\n",
              "  <div id=\"df-d3a54cbb-101d-4e43-94d7-1627c7bd03df\" class=\"colab-df-container\">\n",
              "    <div>\n",
              "<style scoped>\n",
              "    .dataframe tbody tr th:only-of-type {\n",
              "        vertical-align: middle;\n",
              "    }\n",
              "\n",
              "    .dataframe tbody tr th {\n",
              "        vertical-align: top;\n",
              "    }\n",
              "\n",
              "    .dataframe thead th {\n",
              "        text-align: right;\n",
              "    }\n",
              "</style>\n",
              "<table border=\"1\" class=\"dataframe\">\n",
              "  <thead>\n",
              "    <tr style=\"text-align: right;\">\n",
              "      <th></th>\n",
              "      <th>Num_Acc</th>\n",
              "      <th>jour</th>\n",
              "      <th>mois</th>\n",
              "      <th>an</th>\n",
              "      <th>hrmn</th>\n",
              "      <th>lum</th>\n",
              "      <th>dep</th>\n",
              "      <th>com</th>\n",
              "      <th>agg</th>\n",
              "      <th>int</th>\n",
              "      <th>...</th>\n",
              "      <th>grav</th>\n",
              "      <th>sexe</th>\n",
              "      <th>an_nais</th>\n",
              "      <th>trajet</th>\n",
              "      <th>secu1</th>\n",
              "      <th>secu2</th>\n",
              "      <th>secu3</th>\n",
              "      <th>locp</th>\n",
              "      <th>actp</th>\n",
              "      <th>etatp</th>\n",
              "    </tr>\n",
              "  </thead>\n",
              "  <tbody>\n",
              "    <tr>\n",
              "      <th>0</th>\n",
              "      <td>202300000001</td>\n",
              "      <td>7</td>\n",
              "      <td>5</td>\n",
              "      <td>2023</td>\n",
              "      <td>06:00</td>\n",
              "      <td>1</td>\n",
              "      <td>75</td>\n",
              "      <td>75101</td>\n",
              "      <td>2</td>\n",
              "      <td>4</td>\n",
              "      <td>...</td>\n",
              "      <td>4</td>\n",
              "      <td>1</td>\n",
              "      <td>1978.0</td>\n",
              "      <td>5</td>\n",
              "      <td>2</td>\n",
              "      <td>0</td>\n",
              "      <td>-1</td>\n",
              "      <td>-1</td>\n",
              "      <td>-1</td>\n",
              "      <td>-1</td>\n",
              "    </tr>\n",
              "    <tr>\n",
              "      <th>1</th>\n",
              "      <td>202300000001</td>\n",
              "      <td>7</td>\n",
              "      <td>5</td>\n",
              "      <td>2023</td>\n",
              "      <td>06:00</td>\n",
              "      <td>1</td>\n",
              "      <td>75</td>\n",
              "      <td>75101</td>\n",
              "      <td>2</td>\n",
              "      <td>4</td>\n",
              "      <td>...</td>\n",
              "      <td>4</td>\n",
              "      <td>1</td>\n",
              "      <td>1978.0</td>\n",
              "      <td>5</td>\n",
              "      <td>2</td>\n",
              "      <td>0</td>\n",
              "      <td>-1</td>\n",
              "      <td>-1</td>\n",
              "      <td>-1</td>\n",
              "      <td>-1</td>\n",
              "    </tr>\n",
              "    <tr>\n",
              "      <th>2</th>\n",
              "      <td>202300000002</td>\n",
              "      <td>7</td>\n",
              "      <td>5</td>\n",
              "      <td>2023</td>\n",
              "      <td>05:30</td>\n",
              "      <td>5</td>\n",
              "      <td>94</td>\n",
              "      <td>94080</td>\n",
              "      <td>2</td>\n",
              "      <td>1</td>\n",
              "      <td>...</td>\n",
              "      <td>1</td>\n",
              "      <td>2</td>\n",
              "      <td>1997.0</td>\n",
              "      <td>9</td>\n",
              "      <td>1</td>\n",
              "      <td>0</td>\n",
              "      <td>-1</td>\n",
              "      <td>-1</td>\n",
              "      <td>-1</td>\n",
              "      <td>-1</td>\n",
              "    </tr>\n",
              "    <tr>\n",
              "      <th>3</th>\n",
              "      <td>202300000002</td>\n",
              "      <td>7</td>\n",
              "      <td>5</td>\n",
              "      <td>2023</td>\n",
              "      <td>05:30</td>\n",
              "      <td>5</td>\n",
              "      <td>94</td>\n",
              "      <td>94080</td>\n",
              "      <td>2</td>\n",
              "      <td>1</td>\n",
              "      <td>...</td>\n",
              "      <td>3</td>\n",
              "      <td>1</td>\n",
              "      <td>1997.0</td>\n",
              "      <td>9</td>\n",
              "      <td>0</td>\n",
              "      <td>-1</td>\n",
              "      <td>-1</td>\n",
              "      <td>2</td>\n",
              "      <td>3</td>\n",
              "      <td>1</td>\n",
              "    </tr>\n",
              "    <tr>\n",
              "      <th>4</th>\n",
              "      <td>202300000003</td>\n",
              "      <td>7</td>\n",
              "      <td>5</td>\n",
              "      <td>2023</td>\n",
              "      <td>20:50</td>\n",
              "      <td>1</td>\n",
              "      <td>94</td>\n",
              "      <td>94022</td>\n",
              "      <td>2</td>\n",
              "      <td>3</td>\n",
              "      <td>...</td>\n",
              "      <td>3</td>\n",
              "      <td>1</td>\n",
              "      <td>1987.0</td>\n",
              "      <td>0</td>\n",
              "      <td>2</td>\n",
              "      <td>6</td>\n",
              "      <td>0</td>\n",
              "      <td>0</td>\n",
              "      <td>0</td>\n",
              "      <td>-1</td>\n",
              "    </tr>\n",
              "    <tr>\n",
              "      <th>5</th>\n",
              "      <td>202300000003</td>\n",
              "      <td>7</td>\n",
              "      <td>5</td>\n",
              "      <td>2023</td>\n",
              "      <td>20:50</td>\n",
              "      <td>1</td>\n",
              "      <td>94</td>\n",
              "      <td>94022</td>\n",
              "      <td>2</td>\n",
              "      <td>3</td>\n",
              "      <td>...</td>\n",
              "      <td>1</td>\n",
              "      <td>2</td>\n",
              "      <td>1984.0</td>\n",
              "      <td>0</td>\n",
              "      <td>1</td>\n",
              "      <td>0</td>\n",
              "      <td>0</td>\n",
              "      <td>0</td>\n",
              "      <td>0</td>\n",
              "      <td>-1</td>\n",
              "    </tr>\n",
              "    <tr>\n",
              "      <th>6</th>\n",
              "      <td>202300000003</td>\n",
              "      <td>7</td>\n",
              "      <td>5</td>\n",
              "      <td>2023</td>\n",
              "      <td>20:50</td>\n",
              "      <td>1</td>\n",
              "      <td>94</td>\n",
              "      <td>94022</td>\n",
              "      <td>2</td>\n",
              "      <td>3</td>\n",
              "      <td>...</td>\n",
              "      <td>3</td>\n",
              "      <td>1</td>\n",
              "      <td>1987.0</td>\n",
              "      <td>0</td>\n",
              "      <td>2</td>\n",
              "      <td>6</td>\n",
              "      <td>0</td>\n",
              "      <td>0</td>\n",
              "      <td>0</td>\n",
              "      <td>-1</td>\n",
              "    </tr>\n",
              "    <tr>\n",
              "      <th>7</th>\n",
              "      <td>202300000003</td>\n",
              "      <td>7</td>\n",
              "      <td>5</td>\n",
              "      <td>2023</td>\n",
              "      <td>20:50</td>\n",
              "      <td>1</td>\n",
              "      <td>94</td>\n",
              "      <td>94022</td>\n",
              "      <td>2</td>\n",
              "      <td>3</td>\n",
              "      <td>...</td>\n",
              "      <td>1</td>\n",
              "      <td>2</td>\n",
              "      <td>1984.0</td>\n",
              "      <td>0</td>\n",
              "      <td>1</td>\n",
              "      <td>0</td>\n",
              "      <td>0</td>\n",
              "      <td>0</td>\n",
              "      <td>0</td>\n",
              "      <td>-1</td>\n",
              "    </tr>\n",
              "    <tr>\n",
              "      <th>8</th>\n",
              "      <td>202300000003</td>\n",
              "      <td>7</td>\n",
              "      <td>5</td>\n",
              "      <td>2023</td>\n",
              "      <td>20:50</td>\n",
              "      <td>1</td>\n",
              "      <td>94</td>\n",
              "      <td>94022</td>\n",
              "      <td>2</td>\n",
              "      <td>3</td>\n",
              "      <td>...</td>\n",
              "      <td>3</td>\n",
              "      <td>1</td>\n",
              "      <td>1987.0</td>\n",
              "      <td>0</td>\n",
              "      <td>2</td>\n",
              "      <td>6</td>\n",
              "      <td>0</td>\n",
              "      <td>0</td>\n",
              "      <td>0</td>\n",
              "      <td>-1</td>\n",
              "    </tr>\n",
              "    <tr>\n",
              "      <th>9</th>\n",
              "      <td>202300000003</td>\n",
              "      <td>7</td>\n",
              "      <td>5</td>\n",
              "      <td>2023</td>\n",
              "      <td>20:50</td>\n",
              "      <td>1</td>\n",
              "      <td>94</td>\n",
              "      <td>94022</td>\n",
              "      <td>2</td>\n",
              "      <td>3</td>\n",
              "      <td>...</td>\n",
              "      <td>1</td>\n",
              "      <td>2</td>\n",
              "      <td>1984.0</td>\n",
              "      <td>0</td>\n",
              "      <td>1</td>\n",
              "      <td>0</td>\n",
              "      <td>0</td>\n",
              "      <td>0</td>\n",
              "      <td>0</td>\n",
              "      <td>-1</td>\n",
              "    </tr>\n",
              "  </tbody>\n",
              "</table>\n",
              "<p>10 rows × 57 columns</p>\n",
              "</div>\n",
              "    <div class=\"colab-df-buttons\">\n",
              "\n",
              "  <div class=\"colab-df-container\">\n",
              "    <button class=\"colab-df-convert\" onclick=\"convertToInteractive('df-d3a54cbb-101d-4e43-94d7-1627c7bd03df')\"\n",
              "            title=\"Convert this dataframe to an interactive table.\"\n",
              "            style=\"display:none;\">\n",
              "\n",
              "  <svg xmlns=\"http://www.w3.org/2000/svg\" height=\"24px\" viewBox=\"0 -960 960 960\">\n",
              "    <path d=\"M120-120v-720h720v720H120Zm60-500h600v-160H180v160Zm220 220h160v-160H400v160Zm0 220h160v-160H400v160ZM180-400h160v-160H180v160Zm440 0h160v-160H620v160ZM180-180h160v-160H180v160Zm440 0h160v-160H620v160Z\"/>\n",
              "  </svg>\n",
              "    </button>\n",
              "\n",
              "  <style>\n",
              "    .colab-df-container {\n",
              "      display:flex;\n",
              "      gap: 12px;\n",
              "    }\n",
              "\n",
              "    .colab-df-convert {\n",
              "      background-color: #E8F0FE;\n",
              "      border: none;\n",
              "      border-radius: 50%;\n",
              "      cursor: pointer;\n",
              "      display: none;\n",
              "      fill: #1967D2;\n",
              "      height: 32px;\n",
              "      padding: 0 0 0 0;\n",
              "      width: 32px;\n",
              "    }\n",
              "\n",
              "    .colab-df-convert:hover {\n",
              "      background-color: #E2EBFA;\n",
              "      box-shadow: 0px 1px 2px rgba(60, 64, 67, 0.3), 0px 1px 3px 1px rgba(60, 64, 67, 0.15);\n",
              "      fill: #174EA6;\n",
              "    }\n",
              "\n",
              "    .colab-df-buttons div {\n",
              "      margin-bottom: 4px;\n",
              "    }\n",
              "\n",
              "    [theme=dark] .colab-df-convert {\n",
              "      background-color: #3B4455;\n",
              "      fill: #D2E3FC;\n",
              "    }\n",
              "\n",
              "    [theme=dark] .colab-df-convert:hover {\n",
              "      background-color: #434B5C;\n",
              "      box-shadow: 0px 1px 3px 1px rgba(0, 0, 0, 0.15);\n",
              "      filter: drop-shadow(0px 1px 2px rgba(0, 0, 0, 0.3));\n",
              "      fill: #FFFFFF;\n",
              "    }\n",
              "  </style>\n",
              "\n",
              "    <script>\n",
              "      const buttonEl =\n",
              "        document.querySelector('#df-d3a54cbb-101d-4e43-94d7-1627c7bd03df button.colab-df-convert');\n",
              "      buttonEl.style.display =\n",
              "        google.colab.kernel.accessAllowed ? 'block' : 'none';\n",
              "\n",
              "      async function convertToInteractive(key) {\n",
              "        const element = document.querySelector('#df-d3a54cbb-101d-4e43-94d7-1627c7bd03df');\n",
              "        const dataTable =\n",
              "          await google.colab.kernel.invokeFunction('convertToInteractive',\n",
              "                                                    [key], {});\n",
              "        if (!dataTable) return;\n",
              "\n",
              "        const docLinkHtml = 'Like what you see? Visit the ' +\n",
              "          '<a target=\"_blank\" href=https://colab.research.google.com/notebooks/data_table.ipynb>data table notebook</a>'\n",
              "          + ' to learn more about interactive tables.';\n",
              "        element.innerHTML = '';\n",
              "        dataTable['output_type'] = 'display_data';\n",
              "        await google.colab.output.renderOutput(dataTable, element);\n",
              "        const docLink = document.createElement('div');\n",
              "        docLink.innerHTML = docLinkHtml;\n",
              "        element.appendChild(docLink);\n",
              "      }\n",
              "    </script>\n",
              "  </div>\n",
              "\n",
              "\n",
              "<div id=\"df-dfe354d7-9d37-4700-85f0-8cec8d40b410\">\n",
              "  <button class=\"colab-df-quickchart\" onclick=\"quickchart('df-dfe354d7-9d37-4700-85f0-8cec8d40b410')\"\n",
              "            title=\"Suggest charts\"\n",
              "            style=\"display:none;\">\n",
              "\n",
              "<svg xmlns=\"http://www.w3.org/2000/svg\" height=\"24px\"viewBox=\"0 0 24 24\"\n",
              "     width=\"24px\">\n",
              "    <g>\n",
              "        <path d=\"M19 3H5c-1.1 0-2 .9-2 2v14c0 1.1.9 2 2 2h14c1.1 0 2-.9 2-2V5c0-1.1-.9-2-2-2zM9 17H7v-7h2v7zm4 0h-2V7h2v10zm4 0h-2v-4h2v4z\"/>\n",
              "    </g>\n",
              "</svg>\n",
              "  </button>\n",
              "\n",
              "<style>\n",
              "  .colab-df-quickchart {\n",
              "      --bg-color: #E8F0FE;\n",
              "      --fill-color: #1967D2;\n",
              "      --hover-bg-color: #E2EBFA;\n",
              "      --hover-fill-color: #174EA6;\n",
              "      --disabled-fill-color: #AAA;\n",
              "      --disabled-bg-color: #DDD;\n",
              "  }\n",
              "\n",
              "  [theme=dark] .colab-df-quickchart {\n",
              "      --bg-color: #3B4455;\n",
              "      --fill-color: #D2E3FC;\n",
              "      --hover-bg-color: #434B5C;\n",
              "      --hover-fill-color: #FFFFFF;\n",
              "      --disabled-bg-color: #3B4455;\n",
              "      --disabled-fill-color: #666;\n",
              "  }\n",
              "\n",
              "  .colab-df-quickchart {\n",
              "    background-color: var(--bg-color);\n",
              "    border: none;\n",
              "    border-radius: 50%;\n",
              "    cursor: pointer;\n",
              "    display: none;\n",
              "    fill: var(--fill-color);\n",
              "    height: 32px;\n",
              "    padding: 0;\n",
              "    width: 32px;\n",
              "  }\n",
              "\n",
              "  .colab-df-quickchart:hover {\n",
              "    background-color: var(--hover-bg-color);\n",
              "    box-shadow: 0 1px 2px rgba(60, 64, 67, 0.3), 0 1px 3px 1px rgba(60, 64, 67, 0.15);\n",
              "    fill: var(--button-hover-fill-color);\n",
              "  }\n",
              "\n",
              "  .colab-df-quickchart-complete:disabled,\n",
              "  .colab-df-quickchart-complete:disabled:hover {\n",
              "    background-color: var(--disabled-bg-color);\n",
              "    fill: var(--disabled-fill-color);\n",
              "    box-shadow: none;\n",
              "  }\n",
              "\n",
              "  .colab-df-spinner {\n",
              "    border: 2px solid var(--fill-color);\n",
              "    border-color: transparent;\n",
              "    border-bottom-color: var(--fill-color);\n",
              "    animation:\n",
              "      spin 1s steps(1) infinite;\n",
              "  }\n",
              "\n",
              "  @keyframes spin {\n",
              "    0% {\n",
              "      border-color: transparent;\n",
              "      border-bottom-color: var(--fill-color);\n",
              "      border-left-color: var(--fill-color);\n",
              "    }\n",
              "    20% {\n",
              "      border-color: transparent;\n",
              "      border-left-color: var(--fill-color);\n",
              "      border-top-color: var(--fill-color);\n",
              "    }\n",
              "    30% {\n",
              "      border-color: transparent;\n",
              "      border-left-color: var(--fill-color);\n",
              "      border-top-color: var(--fill-color);\n",
              "      border-right-color: var(--fill-color);\n",
              "    }\n",
              "    40% {\n",
              "      border-color: transparent;\n",
              "      border-right-color: var(--fill-color);\n",
              "      border-top-color: var(--fill-color);\n",
              "    }\n",
              "    60% {\n",
              "      border-color: transparent;\n",
              "      border-right-color: var(--fill-color);\n",
              "    }\n",
              "    80% {\n",
              "      border-color: transparent;\n",
              "      border-right-color: var(--fill-color);\n",
              "      border-bottom-color: var(--fill-color);\n",
              "    }\n",
              "    90% {\n",
              "      border-color: transparent;\n",
              "      border-bottom-color: var(--fill-color);\n",
              "    }\n",
              "  }\n",
              "</style>\n",
              "\n",
              "  <script>\n",
              "    async function quickchart(key) {\n",
              "      const quickchartButtonEl =\n",
              "        document.querySelector('#' + key + ' button');\n",
              "      quickchartButtonEl.disabled = true;  // To prevent multiple clicks.\n",
              "      quickchartButtonEl.classList.add('colab-df-spinner');\n",
              "      try {\n",
              "        const charts = await google.colab.kernel.invokeFunction(\n",
              "            'suggestCharts', [key], {});\n",
              "      } catch (error) {\n",
              "        console.error('Error during call to suggestCharts:', error);\n",
              "      }\n",
              "      quickchartButtonEl.classList.remove('colab-df-spinner');\n",
              "      quickchartButtonEl.classList.add('colab-df-quickchart-complete');\n",
              "    }\n",
              "    (() => {\n",
              "      let quickchartButtonEl =\n",
              "        document.querySelector('#df-dfe354d7-9d37-4700-85f0-8cec8d40b410 button');\n",
              "      quickchartButtonEl.style.display =\n",
              "        google.colab.kernel.accessAllowed ? 'block' : 'none';\n",
              "    })();\n",
              "  </script>\n",
              "</div>\n",
              "\n",
              "    </div>\n",
              "  </div>\n"
            ],
            "application/vnd.google.colaboratory.intrinsic+json": {
              "type": "dataframe",
              "variable_name": "merged_df"
            }
          },
          "metadata": {},
          "execution_count": 12
        }
      ],
      "source": [
        "merged_df.head(10)"
      ]
    },
    {
      "cell_type": "markdown",
      "metadata": {
        "id": "Di3FRUcnl49A"
      },
      "source": [
        "**Clean the datastes**"
      ]
    },
    {
      "cell_type": "code",
      "execution_count": 13,
      "metadata": {
        "colab": {
          "base_uri": "https://localhost:8080/"
        },
        "id": "rKnsiT1aJymZ",
        "outputId": "de088459-f799-422b-e3ba-c5108defe3d8"
      },
      "outputs": [
        {
          "output_type": "stream",
          "name": "stdout",
          "text": [
            "missing_percentage\n",
            "Num_Acc           0.000000\n",
            "jour              0.000000\n",
            "mois              0.000000\n",
            "an                0.000000\n",
            "hrmn              0.000000\n",
            "lum               0.000000\n",
            "dep               0.000000\n",
            "com               0.000000\n",
            "agg               0.000000\n",
            "int               0.000000\n",
            "atm               0.000000\n",
            "col               0.000000\n",
            "adr               2.531834\n",
            "lat               0.000000\n",
            "long              0.000000\n",
            "catr              0.000000\n",
            "voie             16.307893\n",
            "v1                0.000000\n",
            "v2               91.705270\n",
            "circ              0.000000\n",
            "nbv               0.000000\n",
            "vosp              0.000000\n",
            "prof              0.000000\n",
            "pr                0.000000\n",
            "pr1               0.000000\n",
            "plan              0.000000\n",
            "lartpc           99.948277\n",
            "larrout           0.000000\n",
            "surf              0.000000\n",
            "infra             0.000000\n",
            "situ              0.000000\n",
            "vma               0.000000\n",
            "id_vehicule_x     0.000000\n",
            "num_veh_x         0.000000\n",
            "senc              0.000000\n",
            "catv              0.000000\n",
            "obs               0.000000\n",
            "obsm              0.000000\n",
            "choc              0.000000\n",
            "manv              0.000000\n",
            "motor             0.000000\n",
            "occutc           98.717596\n",
            "id_usager         0.000000\n",
            "id_vehicule_y     0.000000\n",
            "num_veh_y         0.000000\n",
            "place             0.000000\n",
            "catu              0.000000\n",
            "grav              0.000000\n",
            "sexe              0.000000\n",
            "an_nais           2.054690\n",
            "trajet            0.000000\n",
            "secu1             0.000000\n",
            "secu2             0.000000\n",
            "secu3             0.000000\n",
            "locp              0.000000\n",
            "actp              0.000000\n",
            "etatp             0.000000\n",
            "dtype: float64\n"
          ]
        }
      ],
      "source": [
        "# calculating the missing percentage of missing data for each column\n",
        "missing_percentage = (merged_df.isna().sum() / len(merged_df)) * 100\n",
        "print(\"missing_percentage\")\n",
        "print(missing_percentage)"
      ]
    },
    {
      "cell_type": "markdown",
      "metadata": {
        "id": "o6i6K4Qzo__b"
      },
      "source": [
        "Visualize missing data"
      ]
    },
    {
      "cell_type": "markdown",
      "metadata": {
        "id": "lE0R5FX4p3GI"
      },
      "source": [
        "Dropping the columns with more than 50% missing data"
      ]
    },
    {
      "cell_type": "code",
      "execution_count": 14,
      "metadata": {
        "id": "LJOxgLn-p_0H"
      },
      "outputs": [],
      "source": [
        "threshold = 50\n",
        "columns_to_keep = missing_percentage[missing_percentage <= threshold].index\n",
        "merged_df = merged_df[columns_to_keep]\n"
      ]
    },
    {
      "cell_type": "code",
      "execution_count": 15,
      "metadata": {
        "colab": {
          "base_uri": "https://localhost:8080/"
        },
        "id": "oBX9m9AOVV1H",
        "outputId": "0a022aa0-9107-42c6-c014-cbba34649ebd"
      },
      "outputs": [
        {
          "output_type": "stream",
          "name": "stdout",
          "text": [
            "missing_percentage\n",
            "Num_Acc           0.000000\n",
            "jour              0.000000\n",
            "mois              0.000000\n",
            "an                0.000000\n",
            "hrmn              0.000000\n",
            "lum               0.000000\n",
            "dep               0.000000\n",
            "com               0.000000\n",
            "agg               0.000000\n",
            "int               0.000000\n",
            "atm               0.000000\n",
            "col               0.000000\n",
            "adr               2.531834\n",
            "lat               0.000000\n",
            "long              0.000000\n",
            "catr              0.000000\n",
            "voie             16.307893\n",
            "v1                0.000000\n",
            "circ              0.000000\n",
            "nbv               0.000000\n",
            "vosp              0.000000\n",
            "prof              0.000000\n",
            "pr                0.000000\n",
            "pr1               0.000000\n",
            "plan              0.000000\n",
            "larrout           0.000000\n",
            "surf              0.000000\n",
            "infra             0.000000\n",
            "situ              0.000000\n",
            "vma               0.000000\n",
            "id_vehicule_x     0.000000\n",
            "num_veh_x         0.000000\n",
            "senc              0.000000\n",
            "catv              0.000000\n",
            "obs               0.000000\n",
            "obsm              0.000000\n",
            "choc              0.000000\n",
            "manv              0.000000\n",
            "motor             0.000000\n",
            "id_usager         0.000000\n",
            "id_vehicule_y     0.000000\n",
            "num_veh_y         0.000000\n",
            "place             0.000000\n",
            "catu              0.000000\n",
            "grav              0.000000\n",
            "sexe              0.000000\n",
            "an_nais           2.054690\n",
            "trajet            0.000000\n",
            "secu1             0.000000\n",
            "secu2             0.000000\n",
            "secu3             0.000000\n",
            "locp              0.000000\n",
            "actp              0.000000\n",
            "etatp             0.000000\n",
            "dtype: float64\n"
          ]
        }
      ],
      "source": [
        "missing_percentage = (merged_df.isna().sum() / len(merged_df)) * 100\n",
        "print(\"missing_percentage\")\n",
        "print(missing_percentage)"
      ]
    },
    {
      "cell_type": "markdown",
      "metadata": {
        "id": "Z2lNzesyqLzj"
      },
      "source": [
        "Fill remaining  missing values"
      ]
    },
    {
      "cell_type": "code",
      "execution_count": 16,
      "metadata": {
        "colab": {
          "base_uri": "https://localhost:8080/"
        },
        "id": "-rD4ecJ8qR4f",
        "outputId": "34e4afeb-bd18-4bca-d29c-72805bd3c572"
      },
      "outputs": [
        {
          "output_type": "stream",
          "name": "stderr",
          "text": [
            "<ipython-input-16-0aa25b3499a9>:5: FutureWarning: A value is trying to be set on a copy of a DataFrame or Series through chained assignment using an inplace method.\n",
            "The behavior will change in pandas 3.0. This inplace method will never work because the intermediate object on which we are setting values always behaves as a copy.\n",
            "\n",
            "For example, when doing 'df[col].method(value, inplace=True)', try using 'df.method({col: value}, inplace=True)' or df[col] = df[col].method(value) instead, to perform the operation inplace on the original object.\n",
            "\n",
            "\n",
            "  cleaned_df[col].fillna(cleaned_df[col].median(),inplace=True)\n",
            "<ipython-input-16-0aa25b3499a9>:7: FutureWarning: A value is trying to be set on a copy of a DataFrame or Series through chained assignment using an inplace method.\n",
            "The behavior will change in pandas 3.0. This inplace method will never work because the intermediate object on which we are setting values always behaves as a copy.\n",
            "\n",
            "For example, when doing 'df[col].method(value, inplace=True)', try using 'df.method({col: value}, inplace=True)' or df[col] = df[col].method(value) instead, to perform the operation inplace on the original object.\n",
            "\n",
            "\n",
            "  cleaned_df[col].fillna(cleaned_df[col].mode()[0],inplace=True)\n"
          ]
        }
      ],
      "source": [
        "cleaned_df = merged_df[columns_to_keep]\n",
        "\n",
        "for col in cleaned_df.columns:\n",
        "    if cleaned_df[col].dtype in ['float64', 'int64']:\n",
        "        cleaned_df[col].fillna(cleaned_df[col].median(),inplace=True)\n",
        "    else:\n",
        "        cleaned_df[col].fillna(cleaned_df[col].mode()[0],inplace=True)\n"
      ]
    },
    {
      "cell_type": "code",
      "execution_count": 17,
      "metadata": {
        "colab": {
          "base_uri": "https://localhost:8080/"
        },
        "id": "nr1GuHZmsGdH",
        "outputId": "e2736cb8-6f88-4f22-ccc2-471da9abd8b4"
      },
      "outputs": [
        {
          "output_type": "stream",
          "name": "stdout",
          "text": [
            "<class 'pandas.core.frame.DataFrame'>\n",
            "RangeIndex: 309341 entries, 0 to 309340\n",
            "Data columns (total 54 columns):\n",
            " #   Column         Non-Null Count   Dtype  \n",
            "---  ------         --------------   -----  \n",
            " 0   Num_Acc        309341 non-null  int64  \n",
            " 1   jour           309341 non-null  int64  \n",
            " 2   mois           309341 non-null  int64  \n",
            " 3   an             309341 non-null  int64  \n",
            " 4   hrmn           309341 non-null  object \n",
            " 5   lum            309341 non-null  int64  \n",
            " 6   dep            309341 non-null  object \n",
            " 7   com            309341 non-null  object \n",
            " 8   agg            309341 non-null  int64  \n",
            " 9   int            309341 non-null  int64  \n",
            " 10  atm            309341 non-null  int64  \n",
            " 11  col            309341 non-null  int64  \n",
            " 12  adr            309341 non-null  object \n",
            " 13  lat            309341 non-null  object \n",
            " 14  long           309341 non-null  object \n",
            " 15  catr           309341 non-null  int64  \n",
            " 16  voie           309341 non-null  object \n",
            " 17  v1             309341 non-null  int64  \n",
            " 18  circ           309341 non-null  int64  \n",
            " 19  nbv            309341 non-null  object \n",
            " 20  vosp           309341 non-null  int64  \n",
            " 21  prof           309341 non-null  int64  \n",
            " 22  pr             309341 non-null  object \n",
            " 23  pr1            309341 non-null  object \n",
            " 24  plan           309341 non-null  int64  \n",
            " 25  larrout        309341 non-null  object \n",
            " 26  surf           309341 non-null  int64  \n",
            " 27  infra          309341 non-null  int64  \n",
            " 28  situ           309341 non-null  int64  \n",
            " 29  vma            309341 non-null  int64  \n",
            " 30  id_vehicule_x  309341 non-null  object \n",
            " 31  num_veh_x      309341 non-null  object \n",
            " 32  senc           309341 non-null  int64  \n",
            " 33  catv           309341 non-null  int64  \n",
            " 34  obs            309341 non-null  int64  \n",
            " 35  obsm           309341 non-null  int64  \n",
            " 36  choc           309341 non-null  int64  \n",
            " 37  manv           309341 non-null  int64  \n",
            " 38  motor          309341 non-null  int64  \n",
            " 39  id_usager      309341 non-null  object \n",
            " 40  id_vehicule_y  309341 non-null  object \n",
            " 41  num_veh_y      309341 non-null  object \n",
            " 42  place          309341 non-null  int64  \n",
            " 43  catu           309341 non-null  int64  \n",
            " 44  grav           309341 non-null  int64  \n",
            " 45  sexe           309341 non-null  int64  \n",
            " 46  an_nais        309341 non-null  float64\n",
            " 47  trajet         309341 non-null  int64  \n",
            " 48  secu1          309341 non-null  int64  \n",
            " 49  secu2          309341 non-null  int64  \n",
            " 50  secu3          309341 non-null  int64  \n",
            " 51  locp           309341 non-null  int64  \n",
            " 52  actp           309341 non-null  object \n",
            " 53  etatp          309341 non-null  int64  \n",
            "dtypes: float64(1), int64(36), object(17)\n",
            "memory usage: 127.4+ MB\n",
            "None\n"
          ]
        }
      ],
      "source": [
        "print(cleaned_df.info())"
      ]
    },
    {
      "cell_type": "code",
      "execution_count": 18,
      "metadata": {
        "colab": {
          "base_uri": "https://localhost:8080/"
        },
        "id": "mEVJvRPBsNrZ",
        "outputId": "9de1bfab-a1e2-48ac-ae8f-553ca59780be"
      },
      "outputs": [
        {
          "output_type": "stream",
          "name": "stdout",
          "text": [
            "Missing data after claeaning \n",
            "Num_Acc          0\n",
            "jour             0\n",
            "mois             0\n",
            "an               0\n",
            "hrmn             0\n",
            "lum              0\n",
            "dep              0\n",
            "com              0\n",
            "agg              0\n",
            "int              0\n",
            "atm              0\n",
            "col              0\n",
            "adr              0\n",
            "lat              0\n",
            "long             0\n",
            "catr             0\n",
            "voie             0\n",
            "v1               0\n",
            "circ             0\n",
            "nbv              0\n",
            "vosp             0\n",
            "prof             0\n",
            "pr               0\n",
            "pr1              0\n",
            "plan             0\n",
            "larrout          0\n",
            "surf             0\n",
            "infra            0\n",
            "situ             0\n",
            "vma              0\n",
            "id_vehicule_x    0\n",
            "num_veh_x        0\n",
            "senc             0\n",
            "catv             0\n",
            "obs              0\n",
            "obsm             0\n",
            "choc             0\n",
            "manv             0\n",
            "motor            0\n",
            "id_usager        0\n",
            "id_vehicule_y    0\n",
            "num_veh_y        0\n",
            "place            0\n",
            "catu             0\n",
            "grav             0\n",
            "sexe             0\n",
            "an_nais          0\n",
            "trajet           0\n",
            "secu1            0\n",
            "secu2            0\n",
            "secu3            0\n",
            "locp             0\n",
            "actp             0\n",
            "etatp            0\n",
            "dtype: int64\n"
          ]
        }
      ],
      "source": [
        "#verify that all missing values are handled\n",
        "print(\"Missing data after claeaning \")\n",
        "print(cleaned_df.isna().sum())"
      ]
    },
    {
      "cell_type": "markdown",
      "metadata": {
        "id": "58rpxlX-sgeU"
      },
      "source": [
        "ANALYZE DATA BY STATISTICS"
      ]
    },
    {
      "cell_type": "code",
      "execution_count": 19,
      "metadata": {
        "colab": {
          "base_uri": "https://localhost:8080/"
        },
        "id": "dNgljjrssf50",
        "outputId": "45722af1-cb96-463b-a6c3-826135745e51"
      },
      "outputs": [
        {
          "output_type": "stream",
          "name": "stdout",
          "text": [
            "Descriptive Statistics:\n",
            "            Num_Acc           jour           mois        an            lum  \\\n",
            "count  3.093410e+05  309341.000000  309341.000000  309341.0  309341.000000   \n",
            "mean   2.023000e+11      15.373669       6.741250    2023.0       1.917108   \n",
            "std    1.580295e+04       8.740240       3.343456       0.0       1.495084   \n",
            "min    2.023000e+11       1.000000       1.000000    2023.0      -1.000000   \n",
            "25%    2.023000e+11       8.000000       4.000000    2023.0       1.000000   \n",
            "50%    2.023000e+11      15.000000       7.000000    2023.0       1.000000   \n",
            "75%    2.023000e+11      23.000000      10.000000    2023.0       3.000000   \n",
            "max    2.023001e+11      31.000000      12.000000    2023.0       5.000000   \n",
            "\n",
            "                 agg            int            atm            col  \\\n",
            "count  309341.000000  309341.000000  309341.000000  309341.000000   \n",
            "mean        1.617487       2.286913       1.613239       3.413195   \n",
            "std         0.486002       1.927409       1.667685       1.612283   \n",
            "min         1.000000      -1.000000      -1.000000      -1.000000   \n",
            "25%         1.000000       1.000000       1.000000       2.000000   \n",
            "50%         2.000000       2.000000       1.000000       3.000000   \n",
            "75%         2.000000       3.000000       1.000000       5.000000   \n",
            "max         2.000000       9.000000       9.000000       7.000000   \n",
            "\n",
            "                catr  ...           catu           grav           sexe  \\\n",
            "count  309341.000000  ...  309341.000000  309341.000000  309341.000000   \n",
            "mean        3.253339  ...       1.266146       2.448421       1.272867   \n",
            "std         1.197928  ...       0.526471       1.399217       0.560108   \n",
            "min         1.000000  ...       1.000000      -1.000000      -1.000000   \n",
            "25%         3.000000  ...       1.000000       1.000000       1.000000   \n",
            "50%         3.000000  ...       1.000000       3.000000       1.000000   \n",
            "75%         4.000000  ...       1.000000       4.000000       2.000000   \n",
            "max         9.000000  ...       3.000000       4.000000       2.000000   \n",
            "\n",
            "             an_nais         trajet          secu1          secu2  \\\n",
            "count  309341.000000  309341.000000  309341.000000  309341.000000   \n",
            "mean     1984.401718       3.093980       1.966648       0.939158   \n",
            "std        18.410166       2.787212       2.342064       2.967817   \n",
            "min      1913.000000      -1.000000      -1.000000      -1.000000   \n",
            "25%      1972.000000       0.000000       1.000000      -1.000000   \n",
            "50%      1987.000000       4.000000       1.000000       0.000000   \n",
            "75%      1999.000000       5.000000       2.000000       0.000000   \n",
            "max      2023.000000       9.000000       9.000000       9.000000   \n",
            "\n",
            "               secu3           locp          etatp  \n",
            "count  309341.000000  309341.000000  309341.000000  \n",
            "mean       -0.898041      -0.400716      -0.898830  \n",
            "std         0.944110       1.023582       0.484971  \n",
            "min        -1.000000      -1.000000      -1.000000  \n",
            "25%        -1.000000      -1.000000      -1.000000  \n",
            "50%        -1.000000      -1.000000      -1.000000  \n",
            "75%        -1.000000       0.000000      -1.000000  \n",
            "max         9.000000       9.000000       3.000000  \n",
            "\n",
            "[8 rows x 37 columns]\n"
          ]
        }
      ],
      "source": [
        "print(\"Descriptive Statistics:\")\n",
        "print(cleaned_df.describe())"
      ]
    },
    {
      "cell_type": "markdown",
      "metadata": {
        "id": "hyVIDWKPs4LF"
      },
      "source": [
        "Creation of \"mortality\" varaible  "
      ]
    },
    {
      "cell_type": "code",
      "execution_count": 20,
      "metadata": {
        "colab": {
          "base_uri": "https://localhost:8080/"
        },
        "id": "XHxy6sTrs_yA",
        "outputId": "a8c40299-d266-4932-b1e9-3b081650d86e"
      },
      "outputs": [
        {
          "output_type": "stream",
          "name": "stdout",
          "text": [
            "Creating mortality variable \n",
            "Mortality Distribution\n",
            "mortality\n",
            "0    303304\n",
            "1      6037\n",
            "Name: count, dtype: int64\n"
          ]
        }
      ],
      "source": [
        "print(\"Creating mortality variable \" )\n",
        "cleaned_df['mortality'] = cleaned_df['grav'].apply(lambda x : 1 if x == 2 else 0)\n",
        "print(\"Mortality Distribution\")\n",
        "print(cleaned_df['mortality'].value_counts())"
      ]
    },
    {
      "cell_type": "markdown",
      "metadata": {
        "id": "WFj-Us6wt4PE"
      },
      "source": [
        "Visualize the severity of accidents"
      ]
    },
    {
      "cell_type": "code",
      "execution_count": 21,
      "metadata": {
        "colab": {
          "base_uri": "https://localhost:8080/",
          "height": 472
        },
        "id": "7BrK53Akt1-q",
        "outputId": "26b2b6f5-d02a-4b91-c07a-a80519462a75"
      },
      "outputs": [
        {
          "output_type": "display_data",
          "data": {
            "text/plain": [
              "<Figure size 640x480 with 1 Axes>"
            ],
            "image/png": "[encoded data removed]"
          },
          "metadata": {}
        }
      ],
      "source": [
        "#Mortality Distribution\n",
        "sns.countplot(x = 'mortality', data = cleaned_df)\n",
        "plt.title('Mortality Distribution')\n",
        "plt.show()"
      ]
    },
    {
      "cell_type": "code",
      "execution_count": 22,
      "metadata": {
        "colab": {
          "base_uri": "https://localhost:8080/",
          "height": 472
        },
        "id": "hFgUj9jau2ye",
        "outputId": "92b79ef0-e57e-444e-9a95-59da0ef6f75b"
      },
      "outputs": [
        {
          "output_type": "display_data",
          "data": {
            "text/plain": [
              "<Figure size 640x480 with 1 Axes>"
            ],
            "image/png": "[encoded data removed]"
          },
          "metadata": {}
        }
      ],
      "source": [
        "sns.countplot(x='sexe', hue = 'mortality', data= cleaned_df)\n",
        "plt.title('Mortality by Gender')\n",
        "plt.show()"
      ]
    },
    {
      "cell_type": "code",
      "execution_count": 23,
      "metadata": {
        "colab": {
          "base_uri": "https://localhost:8080/",
          "height": 472
        },
        "id": "-ns1uu_AzHUt",
        "outputId": "6e81f7fa-a5be-4cec-d324-452042df8499"
      },
      "outputs": [
        {
          "output_type": "display_data",
          "data": {
            "text/plain": [
              "<Figure size 640x480 with 1 Axes>"
            ],
            "image/png": "[encoded data removed]"
          },
          "metadata": {}
        }
      ],
      "source": [
        "sns.countplot(x='mois', hue = 'mortality', data= cleaned_df)\n",
        "plt.title('Mortality by Month')\n",
        "plt.show()"
      ]
    },
    {
      "cell_type": "markdown",
      "metadata": {
        "id": "hfCC9BFWzS3y"
      },
      "source": [
        "Additonal statistics for mortality"
      ]
    },
    {
      "cell_type": "code",
      "execution_count": 24,
      "metadata": {
        "colab": {
          "base_uri": "https://localhost:8080/"
        },
        "id": "qfqBAxqNzX1P",
        "outputId": "8a4d9766-0e7c-4a43-f460-aa5d26f45bd4"
      },
      "outputs": [
        {
          "output_type": "stream",
          "name": "stdout",
          "text": [
            "\n",
            "Additional Statistics for Mortality:\n",
            "             grav       lum      surf\n",
            "            count      mean      mean\n",
            "mortality                            \n",
            "0          303304  1.917314  1.231477\n",
            "1            6037  1.906742  1.252940\n"
          ]
        }
      ],
      "source": [
        "print(\"\\nAdditional Statistics for Mortality:\")\n",
        "print(cleaned_df.groupby('mortality').agg({'grav': ['count'], 'lum': ['mean'], 'surf': ['mean']}))"
      ]
    },
    {
      "cell_type": "markdown",
      "metadata": {
        "id": "svOcpFFLzfIB"
      },
      "source": [
        "Final dataset info"
      ]
    },
    {
      "cell_type": "code",
      "execution_count": 25,
      "metadata": {
        "colab": {
          "base_uri": "https://localhost:8080/"
        },
        "id": "mpU-ndo6zdzG",
        "outputId": "61ee6fd3-d344-4d4b-9f2e-7bc89a06f17d"
      },
      "outputs": [
        {
          "output_type": "stream",
          "name": "stdout",
          "text": [
            "Final cleaned datset info:\n",
            "<class 'pandas.core.frame.DataFrame'>\n",
            "RangeIndex: 309341 entries, 0 to 309340\n",
            "Data columns (total 55 columns):\n",
            " #   Column         Non-Null Count   Dtype  \n",
            "---  ------         --------------   -----  \n",
            " 0   Num_Acc        309341 non-null  int64  \n",
            " 1   jour           309341 non-null  int64  \n",
            " 2   mois           309341 non-null  int64  \n",
            " 3   an             309341 non-null  int64  \n",
            " 4   hrmn           309341 non-null  object \n",
            " 5   lum            309341 non-null  int64  \n",
            " 6   dep            309341 non-null  object \n",
            " 7   com            309341 non-null  object \n",
            " 8   agg            309341 non-null  int64  \n",
            " 9   int            309341 non-null  int64  \n",
            " 10  atm            309341 non-null  int64  \n",
            " 11  col            309341 non-null  int64  \n",
            " 12  adr            309341 non-null  object \n",
            " 13  lat            309341 non-null  object \n",
            " 14  long           309341 non-null  object \n",
            " 15  catr           309341 non-null  int64  \n",
            " 16  voie           309341 non-null  object \n",
            " 17  v1             309341 non-null  int64  \n",
            " 18  circ           309341 non-null  int64  \n",
            " 19  nbv            309341 non-null  object \n",
            " 20  vosp           309341 non-null  int64  \n",
            " 21  prof           309341 non-null  int64  \n",
            " 22  pr             309341 non-null  object \n",
            " 23  pr1            309341 non-null  object \n",
            " 24  plan           309341 non-null  int64  \n",
            " 25  larrout        309341 non-null  object \n",
            " 26  surf           309341 non-null  int64  \n",
            " 27  infra          309341 non-null  int64  \n",
            " 28  situ           309341 non-null  int64  \n",
            " 29  vma            309341 non-null  int64  \n",
            " 30  id_vehicule_x  309341 non-null  object \n",
            " 31  num_veh_x      309341 non-null  object \n",
            " 32  senc           309341 non-null  int64  \n",
            " 33  catv           309341 non-null  int64  \n",
            " 34  obs            309341 non-null  int64  \n",
            " 35  obsm           309341 non-null  int64  \n",
            " 36  choc           309341 non-null  int64  \n",
            " 37  manv           309341 non-null  int64  \n",
            " 38  motor          309341 non-null  int64  \n",
            " 39  id_usager      309341 non-null  object \n",
            " 40  id_vehicule_y  309341 non-null  object \n",
            " 41  num_veh_y      309341 non-null  object \n",
            " 42  place          309341 non-null  int64  \n",
            " 43  catu           309341 non-null  int64  \n",
            " 44  grav           309341 non-null  int64  \n",
            " 45  sexe           309341 non-null  int64  \n",
            " 46  an_nais        309341 non-null  float64\n",
            " 47  trajet         309341 non-null  int64  \n",
            " 48  secu1          309341 non-null  int64  \n",
            " 49  secu2          309341 non-null  int64  \n",
            " 50  secu3          309341 non-null  int64  \n",
            " 51  locp           309341 non-null  int64  \n",
            " 52  actp           309341 non-null  object \n",
            " 53  etatp          309341 non-null  int64  \n",
            " 54  mortality      309341 non-null  int64  \n",
            "dtypes: float64(1), int64(37), object(17)\n",
            "memory usage: 129.8+ MB\n",
            "None\n",
            "Final Dataset shape: (309341, 55)\n"
          ]
        }
      ],
      "source": [
        "print(\"Final cleaned datset info:\")\n",
        "print(cleaned_df.info())\n",
        "print(\"Final Dataset shape:\", cleaned_df.shape)"
      ]
    },
    {
      "cell_type": "markdown",
      "metadata": {
        "id": "TwocSqCgBmrR"
      },
      "source": [
        "# **Visualization and modeling**"
      ]
    },
    {
      "cell_type": "markdown",
      "metadata": {
        "id": "P9r0f_NJdIjo"
      },
      "source": [
        "**Visualize & distribution of mortality**"
      ]
    },
    {
      "cell_type": "markdown",
      "metadata": {
        "id": "5ga4Qyfidh57"
      },
      "source": [
        "Age"
      ]
    },
    {
      "cell_type": "code",
      "execution_count": 26,
      "metadata": {
        "colab": {
          "base_uri": "https://localhost:8080/",
          "height": 472
        },
        "id": "bGDchIAwdhdK",
        "outputId": "d5108886-0454-4131-af57-b09850f2d9be"
      },
      "outputs": [
        {
          "output_type": "display_data",
          "data": {
            "text/plain": [
              "<Figure size 640x480 with 1 Axes>"
            ],
            "image/png": "[encoded data removed]"
          },
          "metadata": {}
        }
      ],
      "source": [
        "cleaned_df['age'] = 2023 - cleaned_df['an_nais']\n",
        "sns.histplot(data=cleaned_df, x='age', hue='mortality', multiple='stack', bins=20, kde=False)\n",
        "plt.title('Mortality by Age')\n",
        "plt.show()\n"
      ]
    },
    {
      "cell_type": "markdown",
      "metadata": {
        "id": "-zmAew10dmYC"
      },
      "source": [
        "Vehicle type"
      ]
    },
    {
      "cell_type": "code",
      "execution_count": 27,
      "metadata": {
        "colab": {
          "base_uri": "https://localhost:8080/",
          "height": 480
        },
        "id": "s7rKMw38dpDo",
        "outputId": "20a4c6e1-0962-49ce-9dcc-185beca52a75"
      },
      "outputs": [
        {
          "output_type": "display_data",
          "data": {
            "text/plain": [
              "<Figure size 640x480 with 1 Axes>"
            ],
            "image/png": "[encoded data removed]"
          },
          "metadata": {}
        }
      ],
      "source": [
        "sns.countplot(x='catv', hue='mortality', data=cleaned_df)\n",
        "plt.title('Mortality by Vehicle Type')\n",
        "plt.xticks(rotation=45)\n",
        "plt.show()\n"
      ]
    },
    {
      "cell_type": "markdown",
      "metadata": {
        "id": "NDSIik_ReHyV"
      },
      "source": [
        "Analyze based on time"
      ]
    },
    {
      "cell_type": "markdown",
      "metadata": {
        "id": "miRd0nraeNgX"
      },
      "source": [
        "year"
      ]
    },
    {
      "cell_type": "code",
      "execution_count": 28,
      "metadata": {
        "colab": {
          "base_uri": "https://localhost:8080/",
          "height": 492
        },
        "id": "fvjWKnMJeLt5",
        "outputId": "80eac5d8-7c29-400d-db65-fbff41671e1a"
      },
      "outputs": [
        {
          "output_type": "display_data",
          "data": {
            "text/plain": [
              "<Figure size 640x480 with 1 Axes>"
            ],
            "image/png": "[encoded data removed]"
          },
          "metadata": {}
        }
      ],
      "source": [
        "# Accidents by year\n",
        "sns.countplot(x='an', data=cleaned_df, order=sorted(cleaned_df['an'].unique()))\n",
        "plt.title('Number of Accidents by Year')\n",
        "plt.xlabel('Year')\n",
        "plt.ylabel('Number of Accidents')\n",
        "plt.xticks(rotation=45)\n",
        "plt.show()\n"
      ]
    },
    {
      "cell_type": "code",
      "execution_count": 29,
      "metadata": {
        "colab": {
          "base_uri": "https://localhost:8080/"
        },
        "id": "CRop-E9phlE4",
        "outputId": "61765c69-51c8-4f5c-c02c-fb4c91cc6fcf"
      },
      "outputs": [
        {
          "output_type": "stream",
          "name": "stdout",
          "text": [
            "Number of Accidents by Year:\n",
            "an\n",
            "2023    309341\n",
            "dtype: int64\n"
          ]
        }
      ],
      "source": [
        "# Group the dataset by 'an' and count the number of accidents for each year\n",
        "accidents_by_year = cleaned_df.groupby('an').size()\n",
        "\n",
        "# Print the number of accidents by year\n",
        "print(\"Number of Accidents by Year:\")\n",
        "print(accidents_by_year)\n"
      ]
    },
    {
      "cell_type": "markdown",
      "metadata": {
        "id": "z6Xw5n40exrg"
      },
      "source": [
        "month"
      ]
    },
    {
      "cell_type": "code",
      "execution_count": 30,
      "metadata": {
        "colab": {
          "base_uri": "https://localhost:8080/",
          "height": 472
        },
        "id": "wtbzp2T_ezPJ",
        "outputId": "e1651dd3-8ef9-48b7-82c8-3762ad958a21"
      },
      "outputs": [
        {
          "output_type": "display_data",
          "data": {
            "text/plain": [
              "<Figure size 640x480 with 1 Axes>"
            ],
            "image/png": "[encoded data removed]"
          },
          "metadata": {}
        }
      ],
      "source": [
        "# Accidents by month\n",
        "sns.countplot(x='mois', data=cleaned_df, order=range(1, 13))\n",
        "plt.title('Number of Accidents by Month')\n",
        "plt.xlabel('Month')\n",
        "plt.ylabel('Number of Accidents')\n",
        "plt.xticks(ticks=range(12), labels=['Jan', 'Feb', 'Mar', 'Apr', 'May', 'Jun', 'Jul', 'Aug', 'Sep', 'Oct', 'Nov', 'Dec'])\n",
        "plt.show()\n"
      ]
    },
    {
      "cell_type": "code",
      "execution_count": 31,
      "metadata": {
        "colab": {
          "base_uri": "https://localhost:8080/",
          "height": 564
        },
        "id": "-3rWLHdde7jD",
        "outputId": "1ada9726-e56a-43c5-b98c-bb0caf081625"
      },
      "outputs": [
        {
          "output_type": "display_data",
          "data": {
            "text/plain": [
              "<Figure size 1200x600 with 1 Axes>"
            ],
            "image/png": "[encoded data removed]"
          },
          "metadata": {}
        }
      ],
      "source": [
        "# Group by year and month\n",
        "accidents_by_year_month = cleaned_df.groupby(['an', 'mois']).size().reset_index(name='count')\n",
        "\n",
        "# Plot accidents by year and month\n",
        "plt.figure(figsize=(12, 6))\n",
        "sns.lineplot(x='mois', y='count', hue='an', data=accidents_by_year_month, marker='o')\n",
        "plt.title('Number of Accidents by Month Across Years')\n",
        "plt.xlabel('Month')\n",
        "plt.ylabel('Number of Accidents')\n",
        "plt.xticks(ticks=range(1, 13), labels=['Jan', 'Feb', 'Mar', 'Apr', 'May', 'Jun', 'Jul', 'Aug', 'Sep', 'Oct', 'Nov', 'Dec'])\n",
        "plt.legend(title='Year', loc='upper right')\n",
        "plt.show()\n"
      ]
    },
    {
      "cell_type": "markdown",
      "metadata": {
        "id": "GTyfgjymfL-T"
      },
      "source": [
        "TO find the most dangerous time of the day"
      ]
    },
    {
      "cell_type": "code",
      "execution_count": 32,
      "metadata": {
        "colab": {
          "base_uri": "https://localhost:8080/",
          "height": 616
        },
        "id": "ATea35Oq49cI",
        "outputId": "49d93b78-4797-45bc-f47c-fd197056df20"
      },
      "outputs": [
        {
          "output_type": "display_data",
          "data": {
            "text/plain": [
              "<Figure size 1200x600 with 1 Axes>"
            ],
            "image/png": "[encoded data removed]"
          },
          "metadata": {}
        },
        {
          "output_type": "stream",
          "name": "stdout",
          "text": [
            "The most dangerous hour of the day:\n",
            "Hour: 18:00\n",
            "Total Accidents: 27538\n"
          ]
        }
      ],
      "source": [
        "\n",
        "# Ensure 'hrmn' column is treated as a string\n",
        "cleaned_df['hrmn'] = cleaned_df['hrmn'].astype(str)\n",
        "\n",
        "# Add leading zeros to ensure uniform formatting (e.g., '600' becomes '06:00')\n",
        "cleaned_df['hrmn'] = cleaned_df['hrmn'].str.zfill(4)\n",
        "\n",
        "# Extract the hour part\n",
        "cleaned_df['hour'] = cleaned_df['hrmn'].str[:2].astype(int)\n",
        "\n",
        "# Group by hour and calculate the total accidents\n",
        "hourly_analysis = cleaned_df.groupby('hour').agg(\n",
        "    total_accidents=('mortality', 'count')  # Count all rows (accidents) per hour\n",
        ").reset_index()\n",
        "\n",
        "# Visualize total accidents\n",
        "plt.figure(figsize=(12, 6))\n",
        "sns.barplot(x='hour', y='total_accidents', data=hourly_analysis, color='blue', alpha=0.6)\n",
        "plt.title('Total Accidents by Hour of the Day')\n",
        "plt.xlabel('Hour of the Day')\n",
        "plt.ylabel('Number of Accidents')\n",
        "plt.show()\n",
        "\n",
        "# Identify the most dangerous hour based on total accidents\n",
        "most_dangerous_hour = hourly_analysis.loc[hourly_analysis['total_accidents'].idxmax()]\n",
        "formatted_hour = f\"{int(most_dangerous_hour['hour']):02}:00\"\n",
        "\n",
        "# Display the result\n",
        "print(\"The most dangerous hour of the day:\")\n",
        "print(f\"Hour: {formatted_hour}\")\n",
        "print(f\"Total Accidents: {int(most_dangerous_hour['total_accidents'])}\")\n"
      ]
    },
    {
      "cell_type": "code",
      "execution_count": 33,
      "metadata": {
        "colab": {
          "base_uri": "https://localhost:8080/"
        },
        "id": "D_rKyAurW8z2",
        "outputId": "fbe17920-253e-43d9-fba3-f5a7004d0843"
      },
      "outputs": [
        {
          "output_type": "stream",
          "name": "stdout",
          "text": [
            "\n",
            "--- Original Data ---\n"
          ]
        },
        {
          "output_type": "stream",
          "name": "stderr",
          "text": [
            "/usr/local/lib/python3.10/dist-packages/sklearn/linear_model/_logistic.py:469: ConvergenceWarning: lbfgs failed to converge (status=1):\n",
            "STOP: TOTAL NO. of ITERATIONS REACHED LIMIT.\n",
            "\n",
            "Increase the number of iterations (max_iter) or scale the data as shown in:\n",
            "    https://scikit-learn.org/stable/modules/preprocessing.html\n",
            "Please also refer to the documentation for alternative solver options:\n",
            "    https://scikit-learn.org/stable/modules/linear_model.html#logistic-regression\n",
            "  n_iter_i = _check_optimize_result(\n"
          ]
        },
        {
          "output_type": "stream",
          "name": "stdout",
          "text": [
            "\n",
            "Logistic Regression Results:\n",
            "Training Accuracy: 0.9806\n",
            "Testing Accuracy: 0.9802\n",
            "Confusion Matrix:\n",
            " [[60642     0]\n",
            " [ 1227     0]]\n",
            "Classification Report:\n",
            "               precision    recall  f1-score   support\n",
            "\n",
            "           0       0.98      1.00      0.99     60642\n",
            "           1       0.00      0.00      0.00      1227\n",
            "\n",
            "    accuracy                           0.98     61869\n",
            "   macro avg       0.49      0.50      0.49     61869\n",
            "weighted avg       0.96      0.98      0.97     61869\n",
            "\n"
          ]
        },
        {
          "output_type": "stream",
          "name": "stderr",
          "text": [
            "/usr/local/lib/python3.10/dist-packages/sklearn/metrics/_classification.py:1531: UndefinedMetricWarning: Precision is ill-defined and being set to 0.0 in labels with no predicted samples. Use `zero_division` parameter to control this behavior.\n",
            "  _warn_prf(average, modifier, f\"{metric.capitalize()} is\", len(result))\n",
            "/usr/local/lib/python3.10/dist-packages/sklearn/metrics/_classification.py:1531: UndefinedMetricWarning: Precision is ill-defined and being set to 0.0 in labels with no predicted samples. Use `zero_division` parameter to control this behavior.\n",
            "  _warn_prf(average, modifier, f\"{metric.capitalize()} is\", len(result))\n",
            "/usr/local/lib/python3.10/dist-packages/sklearn/metrics/_classification.py:1531: UndefinedMetricWarning: Precision is ill-defined and being set to 0.0 in labels with no predicted samples. Use `zero_division` parameter to control this behavior.\n",
            "  _warn_prf(average, modifier, f\"{metric.capitalize()} is\", len(result))\n"
          ]
        },
        {
          "output_type": "stream",
          "name": "stdout",
          "text": [
            "\n",
            "Random Forest Results:\n",
            "Training Accuracy: 1.0000\n",
            "Testing Accuracy: 1.0000\n",
            "Confusion Matrix:\n",
            " [[60642     0]\n",
            " [    0  1227]]\n",
            "Classification Report:\n",
            "               precision    recall  f1-score   support\n",
            "\n",
            "           0       1.00      1.00      1.00     60642\n",
            "           1       1.00      1.00      1.00      1227\n",
            "\n",
            "    accuracy                           1.00     61869\n",
            "   macro avg       1.00      1.00      1.00     61869\n",
            "weighted avg       1.00      1.00      1.00     61869\n",
            "\n",
            "\n",
            "Neural Network Results:\n",
            "Training Accuracy: 0.9806\n",
            "Testing Accuracy: 0.9802\n",
            "Confusion Matrix:\n",
            " [[60642     0]\n",
            " [ 1227     0]]\n",
            "Classification Report:\n",
            "               precision    recall  f1-score   support\n",
            "\n",
            "           0       0.98      1.00      0.99     60642\n",
            "           1       0.00      0.00      0.00      1227\n",
            "\n",
            "    accuracy                           0.98     61869\n",
            "   macro avg       0.49      0.50      0.49     61869\n",
            "weighted avg       0.96      0.98      0.97     61869\n",
            "\n",
            "\n",
            "--- Normalized Data ---\n"
          ]
        },
        {
          "output_type": "stream",
          "name": "stderr",
          "text": [
            "/usr/local/lib/python3.10/dist-packages/sklearn/metrics/_classification.py:1531: UndefinedMetricWarning: Precision is ill-defined and being set to 0.0 in labels with no predicted samples. Use `zero_division` parameter to control this behavior.\n",
            "  _warn_prf(average, modifier, f\"{metric.capitalize()} is\", len(result))\n",
            "/usr/local/lib/python3.10/dist-packages/sklearn/metrics/_classification.py:1531: UndefinedMetricWarning: Precision is ill-defined and being set to 0.0 in labels with no predicted samples. Use `zero_division` parameter to control this behavior.\n",
            "  _warn_prf(average, modifier, f\"{metric.capitalize()} is\", len(result))\n",
            "/usr/local/lib/python3.10/dist-packages/sklearn/metrics/_classification.py:1531: UndefinedMetricWarning: Precision is ill-defined and being set to 0.0 in labels with no predicted samples. Use `zero_division` parameter to control this behavior.\n",
            "  _warn_prf(average, modifier, f\"{metric.capitalize()} is\", len(result))\n"
          ]
        },
        {
          "output_type": "stream",
          "name": "stdout",
          "text": [
            "\n",
            "Logistic Regression Results:\n",
            "Training Accuracy: 0.9806\n",
            "Testing Accuracy: 0.9802\n",
            "Confusion Matrix:\n",
            " [[60636     6]\n",
            " [ 1217    10]]\n",
            "Classification Report:\n",
            "               precision    recall  f1-score   support\n",
            "\n",
            "           0       0.98      1.00      0.99     60642\n",
            "           1       0.62      0.01      0.02      1227\n",
            "\n",
            "    accuracy                           0.98     61869\n",
            "   macro avg       0.80      0.50      0.50     61869\n",
            "weighted avg       0.97      0.98      0.97     61869\n",
            "\n",
            "\n",
            "Random Forest Results:\n",
            "Training Accuracy: 1.0000\n",
            "Testing Accuracy: 1.0000\n",
            "Confusion Matrix:\n",
            " [[60642     0]\n",
            " [    0  1227]]\n",
            "Classification Report:\n",
            "               precision    recall  f1-score   support\n",
            "\n",
            "           0       1.00      1.00      1.00     60642\n",
            "           1       1.00      1.00      1.00      1227\n",
            "\n",
            "    accuracy                           1.00     61869\n",
            "   macro avg       1.00      1.00      1.00     61869\n",
            "weighted avg       1.00      1.00      1.00     61869\n",
            "\n",
            "\n",
            "Neural Network Results:\n",
            "Training Accuracy: 1.0000\n",
            "Testing Accuracy: 1.0000\n",
            "Confusion Matrix:\n",
            " [[60642     0]\n",
            " [    0  1227]]\n",
            "Classification Report:\n",
            "               precision    recall  f1-score   support\n",
            "\n",
            "           0       1.00      1.00      1.00     60642\n",
            "           1       1.00      1.00      1.00      1227\n",
            "\n",
            "    accuracy                           1.00     61869\n",
            "   macro avg       1.00      1.00      1.00     61869\n",
            "weighted avg       1.00      1.00      1.00     61869\n",
            "\n"
          ]
        }
      ],
      "source": [
        "from sklearn.model_selection import train_test_split\n",
        "from sklearn.preprocessing import StandardScaler, LabelEncoder\n",
        "from sklearn.linear_model import LogisticRegression\n",
        "from sklearn.ensemble import RandomForestClassifier\n",
        "from sklearn.neural_network import MLPClassifier\n",
        "from sklearn.metrics import accuracy_score, classification_report, confusion_matrix\n",
        "\n",
        "# Define features (X) and target (y)\n",
        "X = cleaned_df.drop(columns=['Num_Acc', 'mortality', 'an_nais', 'hrmn'])\n",
        "y = cleaned_df['mortality']\n",
        "\n",
        "# Encode categorical variables\n",
        "categorical_columns = X.select_dtypes(include=['object', 'category']).columns\n",
        "label_encoders = {}\n",
        "for col in categorical_columns:\n",
        "    le = LabelEncoder()\n",
        "    X[col] = le.fit_transform(X[col])\n",
        "    label_encoders[col] = le\n",
        "\n",
        "# Train-test split\n",
        "X_train_orig, X_test_orig, y_train_orig, y_test_orig = train_test_split(X, y, test_size=0.2, random_state=42)\n",
        "\n",
        "# Normalize data for logistic regression and neural networks\n",
        "scaler = StandardScaler()\n",
        "X_train = scaler.fit_transform(X_train_orig)\n",
        "X_test = scaler.transform(X_test_orig)\n",
        "\n",
        "# Define models\n",
        "models = {\n",
        "    \"Logistic Regression\": LogisticRegression(),\n",
        "    \"Random Forest\": RandomForestClassifier(),\n",
        "    \"Neural Network\": MLPClassifier(max_iter=300)\n",
        "}\n",
        "\n",
        "# Function to train and evaluate models\n",
        "def evaluate_models(X_train, X_test, y_train, y_test, label):\n",
        "    print(f\"\\n--- {label} ---\")\n",
        "    for name, model in models.items():\n",
        "        # Train the model\n",
        "        model.fit(X_train, y_train)\n",
        "\n",
        "        # Predictions\n",
        "        y_train_pred = model.predict(X_train)\n",
        "        y_test_pred = model.predict(X_test)\n",
        "\n",
        "        # Metrics\n",
        "        train_accuracy = accuracy_score(y_train, y_train_pred)\n",
        "        test_accuracy = accuracy_score(y_test, y_test_pred)\n",
        "\n",
        "        print(f\"\\n{name} Results:\")\n",
        "        print(f\"Training Accuracy: {train_accuracy:.4f}\")\n",
        "        print(f\"Testing Accuracy: {test_accuracy:.4f}\")\n",
        "        print(\"Confusion Matrix:\\n\", confusion_matrix(y_test, y_test_pred))\n",
        "        print(\"Classification Report:\\n\", classification_report(y_test, y_test_pred))\n",
        "\n",
        "# Evaluate on Original Data\n",
        "evaluate_models(X_train_orig, X_test_orig, y_train_orig, y_test_orig, \"Original Data\")\n",
        "\n",
        "# Evaluate on Normalized Data\n",
        "evaluate_models(X_train, X_test, y_train_orig, y_test_orig, \"Normalized Data\")\n"
      ]
    },
    {
      "cell_type": "markdown",
      "metadata": {
        "id": "-z3bDj9CbFsI"
      },
      "source": [
        "preparing data without smote"
      ]
    },
    {
      "cell_type": "code",
      "execution_count": 34,
      "metadata": {
        "id": "Zr9BX_rEhwtN"
      },
      "outputs": [],
      "source": [
        "\n",
        "X_orig = cleaned_df.drop(columns=['Num_Acc', 'mortality', 'an_nais', 'hrmn'])\n",
        "y_orig = cleaned_df['mortality']\n",
        "\n",
        "# Encode categorical variables\n",
        "categorical_columns = X_orig.select_dtypes(include=['object', 'category']).columns\n",
        "label_encoders = {}\n",
        "for col in categorical_columns:\n",
        "    le = LabelEncoder()\n",
        "    X_orig[col] = le.fit_transform(X_orig[col])\n",
        "    label_encoders[col] = le\n",
        "\n",
        "# Train-test split for original data\n",
        "X_train_orig, X_test_orig, y_train_orig, y_test_orig = train_test_split(X_orig, y_orig, test_size=0.2, random_state=42)\n"
      ]
    },
    {
      "cell_type": "markdown",
      "metadata": {
        "id": "K8mXJO6th3to"
      },
      "source": [
        "With smote"
      ]
    },
    {
      "cell_type": "code",
      "execution_count": 35,
      "metadata": {
        "id": "HtF0VS8hh57g"
      },
      "outputs": [],
      "source": [
        "from imblearn.over_sampling import SMOTE\n",
        "\n",
        "# SMOTE for Logistic Regression\n",
        "smote = SMOTE(random_state=42)\n",
        "X_smote, y_smote = smote.fit_resample(X_orig, y_orig)\n",
        "\n",
        "# Train-test split for SMOTE data\n",
        "X_train_smote, X_test_smote, y_train_smote, y_test_smote = train_test_split(X_smote, y_smote, test_size=0.2, random_state=42)\n"
      ]
    },
    {
      "cell_type": "markdown",
      "metadata": {
        "id": "Ea2Wy_ENp_jo"
      },
      "source": [
        "LOGISTIC REGRESSION"
      ]
    },
    {
      "cell_type": "code",
      "execution_count": 36,
      "metadata": {
        "colab": {
          "base_uri": "https://localhost:8080/"
        },
        "id": "cqsD4tKPh_1P",
        "outputId": "599b5dd1-9596-4a31-9c16-8da020f78bc4"
      },
      "outputs": [
        {
          "output_type": "stream",
          "name": "stdout",
          "text": [
            "\n",
            "--- Logistic Regression Evaluation: SMOTE Data ---\n"
          ]
        },
        {
          "output_type": "stream",
          "name": "stderr",
          "text": [
            "/usr/local/lib/python3.10/dist-packages/sklearn/linear_model/_logistic.py:469: ConvergenceWarning: lbfgs failed to converge (status=1):\n",
            "STOP: TOTAL NO. of ITERATIONS REACHED LIMIT.\n",
            "\n",
            "Increase the number of iterations (max_iter) or scale the data as shown in:\n",
            "    https://scikit-learn.org/stable/modules/preprocessing.html\n",
            "Please also refer to the documentation for alternative solver options:\n",
            "    https://scikit-learn.org/stable/modules/linear_model.html#logistic-regression\n",
            "  n_iter_i = _check_optimize_result(\n"
          ]
        },
        {
          "output_type": "stream",
          "name": "stdout",
          "text": [
            "\n",
            "Results:\n",
            "Training Accuracy: 0.6933\n",
            "Testing Accuracy: 0.6917\n",
            "Confusion Matrix:\n",
            " [[42228 18449]\n",
            " [18953 41692]]\n",
            "Classification Report:\n",
            "               precision    recall  f1-score   support\n",
            "\n",
            "           0       0.69      0.70      0.69     60677\n",
            "           1       0.69      0.69      0.69     60645\n",
            "\n",
            "    accuracy                           0.69    121322\n",
            "   macro avg       0.69      0.69      0.69    121322\n",
            "weighted avg       0.69      0.69      0.69    121322\n",
            "\n"
          ]
        }
      ],
      "source": [
        "# Function to train and evaluate Logistic Regression\n",
        "def train_and_evaluate_log_reg(X_train, X_test, y_train, y_test, label=\"\"):\n",
        "    print(f\"\\n--- Logistic Regression Evaluation: {label} ---\")\n",
        "\n",
        "    # Define Logistic Regression model\n",
        "    log_reg = LogisticRegression(\n",
        "        class_weight='balanced',  # Handle class imbalance\n",
        "        max_iter=300,             # Maximum iterations for convergence\n",
        "        random_state=42           # For reproducibility\n",
        "    )\n",
        "\n",
        "    # Train the model\n",
        "    log_reg.fit(X_train, y_train)\n",
        "\n",
        "    # Predictions\n",
        "    y_train_pred = log_reg.predict(X_train)\n",
        "    y_test_pred = log_reg.predict(X_test)\n",
        "\n",
        "    # Metrics\n",
        "    train_accuracy = accuracy_score(y_train, y_train_pred)\n",
        "    test_accuracy = accuracy_score(y_test, y_test_pred)\n",
        "\n",
        "    print(\"\\nResults:\")\n",
        "    print(f\"Training Accuracy: {train_accuracy:.4f}\")\n",
        "    print(f\"Testing Accuracy: {test_accuracy:.4f}\")\n",
        "    print(\"Confusion Matrix:\\n\", confusion_matrix(y_test, y_test_pred))\n",
        "    print(\"Classification Report:\\n\", classification_report(y_test, y_test_pred))\n",
        "\n",
        "    return log_reg\n",
        "\n",
        "# Call the function with SMOTE-applied data\n",
        "log_reg_model = train_and_evaluate_log_reg(X_train_smote, X_test_smote, y_train_smote, y_test_smote, label=\"SMOTE Data\")\n",
        "\n"
      ]
    },
    {
      "cell_type": "code",
      "execution_count": 37,
      "metadata": {
        "colab": {
          "base_uri": "https://localhost:8080/"
        },
        "id": "OvmSVcPxnwzV",
        "outputId": "afc533a6-4cd0-4521-cf4e-efc3657a2c8a"
      },
      "outputs": [
        {
          "output_type": "stream",
          "name": "stdout",
          "text": [
            "\n",
            "--- Cross-Validation ---\n"
          ]
        },
        {
          "output_type": "stream",
          "name": "stderr",
          "text": [
            "[Parallel(n_jobs=-1)]: Using backend LokyBackend with 2 concurrent workers.\n",
            "[Parallel(n_jobs=-1)]: Done   5 out of   5 | elapsed:  1.9min finished\n",
            "[Parallel(n_jobs=-1)]: Using backend LokyBackend with 2 concurrent workers.\n",
            "[Parallel(n_jobs=-1)]: Done   5 out of   5 | elapsed:  1.8min finished\n"
          ]
        },
        {
          "output_type": "stream",
          "name": "stdout",
          "text": [
            "\n",
            "F1 Macro Scores for each fold: [0.69659971 0.69188931 0.69103631 0.69242526 0.6934512 ]\n",
            "Mean F1 Macro Score: 0.6931\n",
            "Standard Deviation: 0.0019\n",
            "\n",
            "Confusion Matrix for CV Predictions:\n",
            " [[169471  73156]\n",
            " [ 75783 166876]]\n",
            "\n",
            "Classification Report for CV Predictions:\n",
            "               precision    recall  f1-score   support\n",
            "\n",
            "           0       0.69      0.70      0.69    242627\n",
            "           1       0.70      0.69      0.69    242659\n",
            "\n",
            "    accuracy                           0.69    485286\n",
            "   macro avg       0.69      0.69      0.69    485286\n",
            "weighted avg       0.69      0.69      0.69    485286\n",
            "\n"
          ]
        }
      ],
      "source": [
        "from sklearn.model_selection import cross_val_score, cross_val_predict\n",
        "from sklearn.metrics import confusion_matrix, classification_report\n",
        "from sklearn.linear_model import LogisticRegression\n",
        "\n",
        "# Define the Logistic Regression model\n",
        "log_reg = LogisticRegression(\n",
        "    class_weight='balanced',\n",
        "    max_iter=300,\n",
        "    random_state=42\n",
        ")\n",
        "\n",
        "# Cross-Validation Function\n",
        "def cross_validate_model_with_predictions(model, X_train, y_train, cv=5):\n",
        "    print(\"\\n--- Cross-Validation ---\")\n",
        "\n",
        "    # Cross-validation scores\n",
        "    cv_scores = cross_val_score(\n",
        "        model,\n",
        "        X_train,\n",
        "        y_train,\n",
        "        cv=cv,\n",
        "        scoring='f1_macro',\n",
        "        n_jobs=-1,\n",
        "        verbose=1\n",
        "    )\n",
        "\n",
        "    # Cross-validation predictions\n",
        "    cv_predictions = cross_val_predict(\n",
        "        model,\n",
        "        X_train,\n",
        "        y_train,\n",
        "        cv=cv,\n",
        "        n_jobs=-1,\n",
        "        verbose=1\n",
        "    )\n",
        "\n",
        "    # Output results\n",
        "    print(\"\\nF1 Macro Scores for each fold:\", cv_scores)\n",
        "    print(f\"Mean F1 Macro Score: {cv_scores.mean():.4f}\")\n",
        "    print(f\"Standard Deviation: {cv_scores.std():.4f}\")\n",
        "\n",
        "    # Confusion Matrix and Classification Report for predictions\n",
        "    print(\"\\nConfusion Matrix for CV Predictions:\\n\", confusion_matrix(y_train, cv_predictions))\n",
        "    print(\"\\nClassification Report for CV Predictions:\\n\", classification_report(y_train, cv_predictions))\n",
        "\n",
        "# Call the function with Logistic Regression model\n",
        "cross_validate_model_with_predictions(log_reg, X_train_smote, y_train_smote, cv=5)\n",
        "\n",
        "\n"
      ]
    },
    {
      "cell_type": "markdown",
      "metadata": {
        "id": "Q8p2HpnRrT2V"
      },
      "source": [
        "RANDOM FOREST"
      ]
    },
    {
      "cell_type": "code",
      "execution_count": 38,
      "metadata": {
        "colab": {
          "base_uri": "https://localhost:8080/"
        },
        "id": "QmFe6KfxrYMv",
        "outputId": "13b3ca85-f21d-49a1-b26b-ef2ce67ab72e"
      },
      "outputs": [
        {
          "output_type": "stream",
          "name": "stdout",
          "text": [
            "\n",
            "--- Random Forest Evaluation: Original Data ---\n",
            "\n",
            "Results:\n",
            "Training Accuracy: 0.9719\n",
            "Testing Accuracy: 0.9707\n",
            "Confusion Matrix:\n",
            " [[58852  1790]\n",
            " [   21  1206]]\n",
            "Classification Report:\n",
            "               precision    recall  f1-score   support\n",
            "\n",
            "           0       1.00      0.97      0.98     60642\n",
            "           1       0.40      0.98      0.57      1227\n",
            "\n",
            "    accuracy                           0.97     61869\n",
            "   macro avg       0.70      0.98      0.78     61869\n",
            "weighted avg       0.99      0.97      0.98     61869\n",
            "\n"
          ]
        }
      ],
      "source": [
        "from sklearn.ensemble import RandomForestClassifier\n",
        "from sklearn.metrics import accuracy_score, confusion_matrix, classification_report\n",
        "\n",
        "# Function to train and evaluate Random Forest\n",
        "def train_and_evaluate_rf(X_train, X_test, y_train, y_test, label=\"\"):\n",
        "    print(f\"\\n--- Random Forest Evaluation: {label} ---\")\n",
        "\n",
        "    # Define the Random Forest model\n",
        "    rf = RandomForestClassifier(\n",
        "        n_estimators=100,        # Number of trees\n",
        "        max_depth=7,             # Maximum depth of trees\n",
        "        min_samples_split=100,   # Minimum samples required to split an internal node\n",
        "        min_samples_leaf=50,     # Minimum samples required to be at a leaf node\n",
        "        class_weight='balanced', # Adjust weights for class imbalance\n",
        "        random_state=42          # For reproducibility\n",
        "    )\n",
        "\n",
        "    # Train the Random Forest\n",
        "    rf.fit(X_train, y_train)\n",
        "\n",
        "    # Predictions\n",
        "    y_train_pred = rf.predict(X_train)\n",
        "    y_test_pred = rf.predict(X_test)\n",
        "\n",
        "    # Metrics\n",
        "    train_accuracy = accuracy_score(y_train, y_train_pred)\n",
        "    test_accuracy = accuracy_score(y_test, y_test_pred)\n",
        "\n",
        "    print(\"\\nResults:\")\n",
        "    print(f\"Training Accuracy: {train_accuracy:.4f}\")\n",
        "    print(f\"Testing Accuracy: {test_accuracy:.4f}\")\n",
        "    print(\"Confusion Matrix:\\n\", confusion_matrix(y_test, y_test_pred))\n",
        "    print(\"Classification Report:\\n\", classification_report(y_test, y_test_pred))\n",
        "\n",
        "    return rf\n",
        "\n",
        "# Call the function with Original Data\n",
        "rf_model = train_and_evaluate_rf(X_train_orig, X_test_orig, y_train_orig, y_test_orig, \"Original Data\")\n"
      ]
    },
    {
      "cell_type": "code",
      "execution_count": 39,
      "metadata": {
        "colab": {
          "base_uri": "https://localhost:8080/"
        },
        "id": "0I5jmLucYGVg",
        "outputId": "09525857-cbeb-4da7-f061-725a627a5da9"
      },
      "outputs": [
        {
          "output_type": "stream",
          "name": "stdout",
          "text": [
            "\n",
            "--- Random Forest Evaluation: SMOTE Data ---\n",
            "\n",
            "Results:\n",
            "Training Accuracy: 0.9528\n",
            "Testing Accuracy: 0.9435\n",
            "Confusion Matrix:\n",
            " [[57310  3332]\n",
            " [  161  1066]]\n",
            "Classification Report:\n",
            "               precision    recall  f1-score   support\n",
            "\n",
            "           0       1.00      0.95      0.97     60642\n",
            "           1       0.24      0.87      0.38      1227\n",
            "\n",
            "    accuracy                           0.94     61869\n",
            "   macro avg       0.62      0.91      0.67     61869\n",
            "weighted avg       0.98      0.94      0.96     61869\n",
            "\n"
          ]
        }
      ],
      "source": [
        "# Function to train and evaluate Random Forest\n",
        "def train_and_evaluate_rf(X_train, X_test, y_train, y_test, label=\"\"):\n",
        "    print(f\"\\n--- Random Forest Evaluation: {label} ---\")\n",
        "\n",
        "    # Define the Random Forest model with controlled complexity\n",
        "    rf = RandomForestClassifier(\n",
        "        n_estimators=50,          # Number of trees\n",
        "        max_depth=5,              # Shallow trees to reduce overfitting\n",
        "        min_samples_split=150,    # Minimum samples to split nodes\n",
        "        min_samples_leaf=75,      # Minimum samples at leaf nodes\n",
        "        class_weight='balanced',  # Adjust weights for class imbalance\n",
        "        random_state=42           # For reproducibility\n",
        "    )\n",
        "\n",
        "    # Train the Random Forest\n",
        "    rf.fit(X_train, y_train)\n",
        "\n",
        "    # Predictions\n",
        "    y_train_pred = rf.predict(X_train)\n",
        "    y_test_pred = rf.predict(X_test)\n",
        "\n",
        "    # Metrics\n",
        "    train_accuracy = accuracy_score(y_train, y_train_pred)\n",
        "    test_accuracy = accuracy_score(y_test, y_test_pred)\n",
        "\n",
        "    print(\"\\nResults:\")\n",
        "    print(f\"Training Accuracy: {train_accuracy:.4f}\")\n",
        "    print(f\"Testing Accuracy: {test_accuracy:.4f}\")\n",
        "    print(\"Confusion Matrix:\\n\", confusion_matrix(y_test, y_test_pred))\n",
        "    print(\"Classification Report:\\n\", classification_report(y_test, y_test_pred))\n",
        "\n",
        "    return rf\n",
        "\n",
        "# Call the function with SMOTE-applied data\n",
        "rf_model = train_and_evaluate_rf(X_train_smote, X_test_orig, y_train_smote, y_test_orig, label=\"SMOTE Data\")\n"
      ]
    },
    {
      "cell_type": "code",
      "execution_count": 40,
      "metadata": {
        "colab": {
          "base_uri": "https://localhost:8080/"
        },
        "id": "3Owjd5BQcMTZ",
        "outputId": "501ba968-e054-4976-fa22-ad9979def0f6"
      },
      "outputs": [
        {
          "output_type": "stream",
          "name": "stdout",
          "text": [
            "\n",
            "Adjusted Threshold Results (0.6) on SMOTE Test Data:\n",
            "Confusion Matrix:\n",
            " [[59570  1107]\n",
            " [ 5696 54949]]\n",
            "Classification Report:\n",
            "               precision    recall  f1-score   support\n",
            "\n",
            "           0       0.91      0.98      0.95     60677\n",
            "           1       0.98      0.91      0.94     60645\n",
            "\n",
            "    accuracy                           0.94    121322\n",
            "   macro avg       0.95      0.94      0.94    121322\n",
            "weighted avg       0.95      0.94      0.94    121322\n",
            "\n"
          ]
        }
      ],
      "source": [
        "# Adjust threshold to 0.6 using SMOTE test data\n",
        "y_test_prob_smote = rf_model.predict_proba(X_test_smote)[:, 1]  # Probabilities for class 1 from SMOTE data\n",
        "threshold = 0.6  # Set threshold to 0.6\n",
        "y_test_pred_adjusted_smote = (y_test_prob_smote >= threshold).astype(int)\n",
        "\n",
        "# Evaluate adjusted predictions with SMOTE test data\n",
        "print(\"\\nAdjusted Threshold Results (0.6) on SMOTE Test Data:\")\n",
        "print(\"Confusion Matrix:\\n\", confusion_matrix(y_test_smote, y_test_pred_adjusted_smote))\n",
        "print(\"Classification Report:\\n\", classification_report(y_test_smote, y_test_pred_adjusted_smote))\n",
        "\n"
      ]
    },
    {
      "cell_type": "code",
      "execution_count": 41,
      "metadata": {
        "colab": {
          "base_uri": "https://localhost:8080/"
        },
        "id": "k5uFA8jOkLjV",
        "outputId": "890f84c1-dc3c-4236-c46d-78cf19aae370"
      },
      "outputs": [
        {
          "output_type": "stream",
          "name": "stdout",
          "text": [
            "\n",
            "--- Random Forest Cross-Validation ---\n"
          ]
        },
        {
          "output_type": "stream",
          "name": "stderr",
          "text": [
            "[Parallel(n_jobs=-1)]: Using backend LokyBackend with 2 concurrent workers.\n",
            "[Parallel(n_jobs=-1)]: Done   5 out of   5 | elapsed:  2.4min finished\n",
            "[Parallel(n_jobs=-1)]: Using backend LokyBackend with 2 concurrent workers.\n",
            "[Parallel(n_jobs=-1)]: Done   5 out of   5 | elapsed:  2.4min finished\n"
          ]
        },
        {
          "output_type": "stream",
          "name": "stdout",
          "text": [
            "\n",
            "Cross-Validation Results:\n",
            "F1 Macro Scores for each fold: [0.95232195 0.94952227 0.9525829  0.94694279 0.94943748]\n",
            "Mean F1 Macro Score: 0.9502\n",
            "Standard Deviation: 0.0021\n",
            "\n",
            "Confusion Matrix for CV Predictions:\n",
            " [[228443  14184]\n",
            " [ 10000 232659]]\n",
            "\n",
            "Classification Report for CV Predictions:\n",
            "               precision    recall  f1-score   support\n",
            "\n",
            "           0       0.96      0.94      0.95    242627\n",
            "           1       0.94      0.96      0.95    242659\n",
            "\n",
            "    accuracy                           0.95    485286\n",
            "   macro avg       0.95      0.95      0.95    485286\n",
            "weighted avg       0.95      0.95      0.95    485286\n",
            "\n"
          ]
        }
      ],
      "source": [
        "from sklearn.model_selection import cross_val_score, cross_val_predict\n",
        "\n",
        "\n",
        "# Perform Cross-Validation for Random Forest\n",
        "def cross_validate_random_forest(rf_model, X_train, y_train, cv=5):\n",
        "    print(\"\\n--- Random Forest Cross-Validation ---\")\n",
        "\n",
        "    # Perform Cross-Validation\n",
        "    cv_scores = cross_val_score(\n",
        "        rf_model,\n",
        "        X_train,\n",
        "        y_train,\n",
        "        cv=cv,\n",
        "        scoring='f1_macro',  # Macro F1-score for imbalanced data\n",
        "        n_jobs=-1,\n",
        "        verbose=1\n",
        "    )\n",
        "\n",
        "    # Cross-validation predictions\n",
        "    cv_predictions = cross_val_predict(\n",
        "        rf_model,\n",
        "        X_train,\n",
        "        y_train,\n",
        "        cv=cv,\n",
        "        n_jobs=-1,\n",
        "        verbose=1\n",
        "    )\n",
        "\n",
        "    # Evaluate Cross-Validation Results\n",
        "    print(\"\\nCross-Validation Results:\")\n",
        "    print(f\"F1 Macro Scores for each fold: {cv_scores}\")\n",
        "    print(f\"Mean F1 Macro Score: {cv_scores.mean():.4f}\")\n",
        "    print(f\"Standard Deviation: {cv_scores.std():.4f}\")\n",
        "\n",
        "    # Confusion Matrix and Classification Report for Cross-Validation Predictions\n",
        "    print(\"\\nConfusion Matrix for CV Predictions:\\n\", confusion_matrix(y_train, cv_predictions))\n",
        "    print(\"\\nClassification Report for CV Predictions:\\n\", classification_report(y_train, cv_predictions))\n",
        "\n",
        "# Call the cross-validation function with your Random Forest model\n",
        "cross_validate_random_forest(rf_model, X_train_smote, y_train_smote)\n"
      ]
    },
    {
      "cell_type": "markdown",
      "metadata": {
        "id": "T6pbeYtUzvBo"
      },
      "source": [
        "NEURAL NETWORK"
      ]
    },
    {
      "cell_type": "code",
      "execution_count": 42,
      "metadata": {
        "colab": {
          "base_uri": "https://localhost:8080/"
        },
        "id": "WqNIQSl9nprs",
        "outputId": "4ee40fe5-3604-4bef-ce76-08f760510fd7"
      },
      "outputs": [
        {
          "output_type": "stream",
          "name": "stdout",
          "text": [
            "\n",
            "--- Neural Network Evaluation (SMOTE Data) ---\n",
            "\n",
            "Results:\n",
            "Training Accuracy: 0.7567\n",
            "Testing Accuracy: 0.7557\n",
            "Confusion Matrix:\n",
            " [[45970 14707]\n",
            " [14930 45715]]\n",
            "Classification Report:\n",
            "               precision    recall  f1-score   support\n",
            "\n",
            "           0       0.75      0.76      0.76     60677\n",
            "           1       0.76      0.75      0.76     60645\n",
            "\n",
            "    accuracy                           0.76    121322\n",
            "   macro avg       0.76      0.76      0.76    121322\n",
            "weighted avg       0.76      0.76      0.76    121322\n",
            "\n"
          ]
        }
      ],
      "source": [
        "# Function to train and evaluate the Neural Network with SMOTE-applied data\n",
        "def train_and_evaluate_with_smote(X_train, X_test, y_train, y_test):\n",
        "    print(\"\\n--- Neural Network Evaluation (SMOTE Data) ---\")\n",
        "\n",
        "    # Define the Neural Network\n",
        "    mlp = MLPClassifier(\n",
        "        hidden_layer_sizes=(50, 25),  # Two hidden layers\n",
        "        max_iter=300,\n",
        "        alpha=0.01,  # Regularization parameter\n",
        "        early_stopping=True,\n",
        "        random_state=42\n",
        "    )\n",
        "\n",
        "    # Train the Neural Network\n",
        "    mlp.fit(X_train, y_train)\n",
        "\n",
        "    # Predictions\n",
        "    y_train_pred = mlp.predict(X_train)\n",
        "    y_test_pred = mlp.predict(X_test)\n",
        "\n",
        "    # Metrics\n",
        "    train_accuracy = accuracy_score(y_train, y_train_pred)\n",
        "    test_accuracy = accuracy_score(y_test, y_test_pred)\n",
        "\n",
        "    print(\"\\nResults:\")\n",
        "    print(f\"Training Accuracy: {train_accuracy:.4f}\")\n",
        "    print(f\"Testing Accuracy: {test_accuracy:.4f}\")\n",
        "    print(\"Confusion Matrix:\\n\", confusion_matrix(y_test, y_test_pred))\n",
        "    print(\"Classification Report:\\n\", classification_report(y_test, y_test_pred))\n",
        "\n",
        "# Call the function using your SMOTE-applied data\n",
        "train_and_evaluate_with_smote(X_train_smote, X_test_smote, y_train_smote, y_test_smote)\n",
        "\n"
      ]
    },
    {
      "cell_type": "code",
      "execution_count": 43,
      "metadata": {
        "colab": {
          "base_uri": "https://localhost:8080/"
        },
        "id": "o8IZkn9ngxn4",
        "outputId": "d25cbf93-188a-4ac6-8177-e0e0bf84f664"
      },
      "outputs": [
        {
          "output_type": "stream",
          "name": "stdout",
          "text": [
            "\n",
            "--- Neural Network Cross-Validation ---\n"
          ]
        },
        {
          "output_type": "stream",
          "name": "stderr",
          "text": [
            "[Parallel(n_jobs=-1)]: Using backend LokyBackend with 2 concurrent workers.\n",
            "[Parallel(n_jobs=-1)]: Done   5 out of   5 | elapsed:  4.3min finished\n",
            "[Parallel(n_jobs=-1)]: Using backend LokyBackend with 2 concurrent workers.\n",
            "[Parallel(n_jobs=-1)]: Done   5 out of   5 | elapsed:  4.3min finished\n"
          ]
        },
        {
          "output_type": "stream",
          "name": "stdout",
          "text": [
            "\n",
            "Cross-Validation Results:\n",
            "F1 Macro Scores for each fold: [0.73027676 0.75252068 0.7488998  0.76530477 0.7130715 ]\n",
            "Mean F1 Macro Score: 0.7420\n",
            "Standard Deviation: 0.0183\n",
            "\n",
            "Confusion Matrix for CV Predictions:\n",
            " [[177518  65109]\n",
            " [ 59206 183453]]\n",
            "\n",
            "Classification Report for CV Predictions:\n",
            "               precision    recall  f1-score   support\n",
            "\n",
            "           0       0.75      0.73      0.74    242627\n",
            "           1       0.74      0.76      0.75    242659\n",
            "\n",
            "    accuracy                           0.74    485286\n",
            "   macro avg       0.74      0.74      0.74    485286\n",
            "weighted avg       0.74      0.74      0.74    485286\n",
            "\n"
          ]
        }
      ],
      "source": [
        "from sklearn.model_selection import cross_val_score, cross_val_predict\n",
        "from sklearn.metrics import accuracy_score, confusion_matrix, classification_report\n",
        "\n",
        "# Function to perform cross-validation on Neural Network\n",
        "def cross_validate_neural_network(X_train, y_train, cv=5):\n",
        "    print(\"\\n--- Neural Network Cross-Validation ---\")\n",
        "\n",
        "    # Define the Neural Network\n",
        "    mlp = MLPClassifier(\n",
        "        hidden_layer_sizes=(50, 25),  # Two hidden layers\n",
        "        max_iter=300,\n",
        "        alpha=0.01,  # Regularization parameter\n",
        "        early_stopping=True,\n",
        "        random_state=42\n",
        "    )\n",
        "\n",
        "    # Perform Cross-Validation\n",
        "    cv_scores = cross_val_score(\n",
        "        mlp,\n",
        "        X_train,\n",
        "        y_train,\n",
        "        cv=cv,\n",
        "        scoring='f1_macro',  # Macro F1-score for imbalanced data\n",
        "        n_jobs=-1,\n",
        "        verbose=1\n",
        "    )\n",
        "\n",
        "    # Cross-validation predictions\n",
        "    cv_predictions = cross_val_predict(\n",
        "        mlp,\n",
        "        X_train,\n",
        "        y_train,\n",
        "        cv=cv,\n",
        "        n_jobs=-1,\n",
        "        verbose=1\n",
        "    )\n",
        "\n",
        "    # Evaluate Cross-Validation Results\n",
        "    print(\"\\nCross-Validation Results:\")\n",
        "    print(f\"F1 Macro Scores for each fold: {cv_scores}\")\n",
        "    print(f\"Mean F1 Macro Score: {cv_scores.mean():.4f}\")\n",
        "    print(f\"Standard Deviation: {cv_scores.std():.4f}\")\n",
        "\n",
        "    # Confusion Matrix and Classification Report for CV Predictions\n",
        "    print(\"\\nConfusion Matrix for CV Predictions:\\n\", confusion_matrix(y_train, cv_predictions))\n",
        "    print(\"\\nClassification Report for CV Predictions:\\n\", classification_report(y_train, cv_predictions))\n",
        "\n",
        "# Perform cross-validation on SMOTE-applied data\n",
        "cross_validate_neural_network(X_train_smote, y_train_smote)\n"
      ]
    },
    {
      "cell_type": "code",
      "execution_count": 47,
      "metadata": {
        "colab": {
          "base_uri": "https://localhost:8080/",
          "height": 468
        },
        "id": "Y6THGGqO1s3_",
        "outputId": "3738a89a-3337-4e6c-d3cd-8f3ede2b2225"
      },
      "outputs": [
        {
          "output_type": "display_data",
          "data": {
            "text/plain": [
              "<Figure size 800x500 with 1 Axes>"
            ],
            "image/png": "[encoded data removed]"
          },
          "metadata": {}
        }
      ],
      "source": [
        "import matplotlib.pyplot as plt\n",
        "\n",
        "# Data for visualization\n",
        "models = [\"Logistic Regression\", \"Random Forest\", \"Neural Network\"]\n",
        "training_accuracy = [0.6933,  0.9528, 0.7567]\n",
        "testing_accuracy = [0.6917,0.9435 , 0.7557]\n",
        "\n",
        "# Plot Training and Testing Accuracy\n",
        "plt.figure(figsize=(8, 5))\n",
        "x = range(len(models))\n",
        "plt.bar(x, training_accuracy, width=0.4, label=\"Training Accuracy\", color='blue', align='center')\n",
        "plt.bar(x, testing_accuracy, width=0.4, label=\"Testing Accuracy\", color='orange', align='edge')\n",
        "\n",
        "# Add labels and title\n",
        "plt.xticks(x, models)\n",
        "plt.title(\"Training vs. Testing Accuracy\")\n",
        "plt.ylabel(\"Accuracy\")\n",
        "plt.ylim(0, 1.1)\n",
        "plt.legend()\n",
        "plt.show()\n"
      ]
    },
    {
      "cell_type": "markdown",
      "metadata": {
        "id": "7CGx9E730Oxz"
      },
      "source": [
        "comparison (cross validation)"
      ]
    },
    {
      "cell_type": "code",
      "execution_count": 45,
      "metadata": {
        "colab": {
          "base_uri": "https://localhost:8080/",
          "height": 1000
        },
        "id": "eDBuy2RC0SgR",
        "outputId": "743cb86f-10b9-425d-a22d-9eec8330e9ba"
      },
      "outputs": [
        {
          "output_type": "display_data",
          "data": {
            "text/plain": [
              "<Figure size 1000x600 with 1 Axes>"
            ],
            "image/png": "[encoded data removed]"
          },
          "metadata": {}
        },
        {
          "output_type": "display_data",
          "data": {
            "text/plain": [
              "<Figure size 1000x600 with 1 Axes>"
            ],
            "image/png": "[encoded data removed]"
          },
          "metadata": {}
        }
      ],
      "source": [
        "import matplotlib.pyplot as plt\n",
        "import numpy as np\n",
        "\n",
        "# Data for visualization\n",
        "models = [\"Logistic Regression\", \"Random Forest\", \"Neural Network\"]\n",
        "mean_f1 = [0.6931, 0.9502, 0.7420]\n",
        "std_f1 = [0.0019, 0.0021, 0.0183]\n",
        "precision = [0.70, 0.94, 0.74]\n",
        "recall = [0.69, 0.96, 0.76]\n",
        "\n",
        "# Plot Mean F1-Score with Standard Deviation\n",
        "plt.figure(figsize=(10, 6))\n",
        "plt.bar(models, mean_f1, yerr=std_f1, capsize=5, color=['blue', 'green', 'orange'])\n",
        "plt.title(\"Mean F1-Score with Standard Deviation\")\n",
        "plt.ylabel(\"Mean F1-Score (Macro)\")\n",
        "plt.ylim(0, 1)\n",
        "plt.show()\n",
        "\n",
        "# Plot Precision and Recall for Class 1\n",
        "x = np.arange(len(models))  # Label locations\n",
        "width = 0.35  # Width of bars\n",
        "\n",
        "fig, ax = plt.subplots(figsize=(10, 6))\n",
        "bar1 = ax.bar(x - width/2, precision, width, label=\"Precision (Class 1)\", color='cyan')\n",
        "bar2 = ax.bar(x + width/2, recall, width, label=\"Recall (Class 1)\", color='magenta')\n",
        "\n",
        "# Add labels, title, and legend\n",
        "ax.set_xlabel(\"Models\")\n",
        "ax.set_ylabel(\"Scores\")\n",
        "ax.set_title(\"Precision and Recall for Class 1\")\n",
        "ax.set_xticks(x)\n",
        "ax.set_xticklabels(models)\n",
        "ax.set_ylim(0, 1)\n",
        "ax.legend()\n",
        "plt.show()\n"
      ]
    },
    {
      "cell_type": "markdown",
      "metadata": {
        "id": "mRUudQdtW7t5"
      },
      "source": [
        "random forest - gridsearchcv"
      ]
    },
    {
      "cell_type": "code",
      "execution_count": 46,
      "metadata": {
        "colab": {
          "base_uri": "https://localhost:8080/",
          "height": 373
        },
        "id": "j7b2eYMg6v3e",
        "outputId": "ebc84f3e-3268-448b-8c5b-4d9dfc011668"
      },
      "outputs": [
        {
          "output_type": "stream",
          "name": "stdout",
          "text": [
            "Fitting 5 folds for each of 36 candidates, totalling 180 fits\n"
          ]
        },
        {
          "output_type": "error",
          "ename": "KeyboardInterrupt",
          "evalue": "",
          "traceback": [
            "\u001b[0;31m---------------------------------------------------------------------------\u001b[0m",
            "\u001b[0;31mKeyboardInterrupt\u001b[0m                         Traceback (most recent call last)",
            "\u001b[0;32m<ipython-input-46-acbb92d41afd>\u001b[0m in \u001b[0;36m<cell line: 26>\u001b[0;34m()\u001b[0m\n\u001b[1;32m     24\u001b[0m \u001b[0;34m\u001b[0m\u001b[0m\n\u001b[1;32m     25\u001b[0m \u001b[0;31m# Fit the GridSearch on the SMOTE-adjusted data\u001b[0m\u001b[0;34m\u001b[0m\u001b[0;34m\u001b[0m\u001b[0m\n\u001b[0;32m---> 26\u001b[0;31m \u001b[0mgrid_rf_smote\u001b[0m\u001b[0;34m.\u001b[0m\u001b[0mfit\u001b[0m\u001b[0;34m(\u001b[0m\u001b[0mX_train_smote\u001b[0m\u001b[0;34m,\u001b[0m \u001b[0my_train_smote\u001b[0m\u001b[0;34m)\u001b[0m\u001b[0;34m\u001b[0m\u001b[0;34m\u001b[0m\u001b[0m\n\u001b[0m\u001b[1;32m     27\u001b[0m \u001b[0;34m\u001b[0m\u001b[0m\n\u001b[1;32m     28\u001b[0m \u001b[0;31m# Output best parameters and score\u001b[0m\u001b[0;34m\u001b[0m\u001b[0;34m\u001b[0m\u001b[0m\n",
            "\u001b[0;32m/usr/local/lib/python3.10/dist-packages/sklearn/base.py\u001b[0m in \u001b[0;36mwrapper\u001b[0;34m(estimator, *args, **kwargs)\u001b[0m\n\u001b[1;32m   1471\u001b[0m                 )\n\u001b[1;32m   1472\u001b[0m             ):\n\u001b[0;32m-> 1473\u001b[0;31m                 \u001b[0;32mreturn\u001b[0m \u001b[0mfit_method\u001b[0m\u001b[0;34m(\u001b[0m\u001b[0mestimator\u001b[0m\u001b[0;34m,\u001b[0m \u001b[0;34m*\u001b[0m\u001b[0margs\u001b[0m\u001b[0;34m,\u001b[0m \u001b[0;34m**\u001b[0m\u001b[0mkwargs\u001b[0m\u001b[0;34m)\u001b[0m\u001b[0;34m\u001b[0m\u001b[0;34m\u001b[0m\u001b[0m\n\u001b[0m\u001b[1;32m   1474\u001b[0m \u001b[0;34m\u001b[0m\u001b[0m\n\u001b[1;32m   1475\u001b[0m         \u001b[0;32mreturn\u001b[0m \u001b[0mwrapper\u001b[0m\u001b[0;34m\u001b[0m\u001b[0;34m\u001b[0m\u001b[0m\n",
            "\u001b[0;32m/usr/local/lib/python3.10/dist-packages/sklearn/model_selection/_search.py\u001b[0m in \u001b[0;36mfit\u001b[0;34m(self, X, y, **params)\u001b[0m\n\u001b[1;32m   1017\u001b[0m                 \u001b[0;32mreturn\u001b[0m \u001b[0mresults\u001b[0m\u001b[0;34m\u001b[0m\u001b[0;34m\u001b[0m\u001b[0m\n\u001b[1;32m   1018\u001b[0m \u001b[0;34m\u001b[0m\u001b[0m\n\u001b[0;32m-> 1019\u001b[0;31m             \u001b[0mself\u001b[0m\u001b[0;34m.\u001b[0m\u001b[0m_run_search\u001b[0m\u001b[0;34m(\u001b[0m\u001b[0mevaluate_candidates\u001b[0m\u001b[0;34m)\u001b[0m\u001b[0;34m\u001b[0m\u001b[0;34m\u001b[0m\u001b[0m\n\u001b[0m\u001b[1;32m   1020\u001b[0m \u001b[0;34m\u001b[0m\u001b[0m\n\u001b[1;32m   1021\u001b[0m             \u001b[0;31m# multimetric is determined here because in the case of a callable\u001b[0m\u001b[0;34m\u001b[0m\u001b[0;34m\u001b[0m\u001b[0m\n",
            "\u001b[0;32m/usr/local/lib/python3.10/dist-packages/sklearn/model_selection/_search.py\u001b[0m in \u001b[0;36m_run_search\u001b[0;34m(self, evaluate_candidates)\u001b[0m\n\u001b[1;32m   1571\u001b[0m     \u001b[0;32mdef\u001b[0m \u001b[0m_run_search\u001b[0m\u001b[0;34m(\u001b[0m\u001b[0mself\u001b[0m\u001b[0;34m,\u001b[0m \u001b[0mevaluate_candidates\u001b[0m\u001b[0;34m)\u001b[0m\u001b[0;34m:\u001b[0m\u001b[0;34m\u001b[0m\u001b[0;34m\u001b[0m\u001b[0m\n\u001b[1;32m   1572\u001b[0m         \u001b[0;34m\"\"\"Search all candidates in param_grid\"\"\"\u001b[0m\u001b[0;34m\u001b[0m\u001b[0;34m\u001b[0m\u001b[0m\n\u001b[0;32m-> 1573\u001b[0;31m         \u001b[0mevaluate_candidates\u001b[0m\u001b[0;34m(\u001b[0m\u001b[0mParameterGrid\u001b[0m\u001b[0;34m(\u001b[0m\u001b[0mself\u001b[0m\u001b[0;34m.\u001b[0m\u001b[0mparam_grid\u001b[0m\u001b[0;34m)\u001b[0m\u001b[0;34m)\u001b[0m\u001b[0;34m\u001b[0m\u001b[0;34m\u001b[0m\u001b[0m\n\u001b[0m\u001b[1;32m   1574\u001b[0m \u001b[0;34m\u001b[0m\u001b[0m\n\u001b[1;32m   1575\u001b[0m \u001b[0;34m\u001b[0m\u001b[0m\n",
            "\u001b[0;32m/usr/local/lib/python3.10/dist-packages/sklearn/model_selection/_search.py\u001b[0m in \u001b[0;36mevaluate_candidates\u001b[0;34m(candidate_params, cv, more_results)\u001b[0m\n\u001b[1;32m    963\u001b[0m                     )\n\u001b[1;32m    964\u001b[0m \u001b[0;34m\u001b[0m\u001b[0m\n\u001b[0;32m--> 965\u001b[0;31m                 out = parallel(\n\u001b[0m\u001b[1;32m    966\u001b[0m                     delayed(_fit_and_score)(\n\u001b[1;32m    967\u001b[0m                         \u001b[0mclone\u001b[0m\u001b[0;34m(\u001b[0m\u001b[0mbase_estimator\u001b[0m\u001b[0;34m)\u001b[0m\u001b[0;34m,\u001b[0m\u001b[0;34m\u001b[0m\u001b[0;34m\u001b[0m\u001b[0m\n",
            "\u001b[0;32m/usr/local/lib/python3.10/dist-packages/sklearn/utils/parallel.py\u001b[0m in \u001b[0;36m__call__\u001b[0;34m(self, iterable)\u001b[0m\n\u001b[1;32m     72\u001b[0m             \u001b[0;32mfor\u001b[0m \u001b[0mdelayed_func\u001b[0m\u001b[0;34m,\u001b[0m \u001b[0margs\u001b[0m\u001b[0;34m,\u001b[0m \u001b[0mkwargs\u001b[0m \u001b[0;32min\u001b[0m \u001b[0miterable\u001b[0m\u001b[0;34m\u001b[0m\u001b[0;34m\u001b[0m\u001b[0m\n\u001b[1;32m     73\u001b[0m         )\n\u001b[0;32m---> 74\u001b[0;31m         \u001b[0;32mreturn\u001b[0m \u001b[0msuper\u001b[0m\u001b[0;34m(\u001b[0m\u001b[0;34m)\u001b[0m\u001b[0;34m.\u001b[0m\u001b[0m__call__\u001b[0m\u001b[0;34m(\u001b[0m\u001b[0miterable_with_config\u001b[0m\u001b[0;34m)\u001b[0m\u001b[0;34m\u001b[0m\u001b[0;34m\u001b[0m\u001b[0m\n\u001b[0m\u001b[1;32m     75\u001b[0m \u001b[0;34m\u001b[0m\u001b[0m\n\u001b[1;32m     76\u001b[0m \u001b[0;34m\u001b[0m\u001b[0m\n",
            "\u001b[0;32m/usr/local/lib/python3.10/dist-packages/joblib/parallel.py\u001b[0m in \u001b[0;36m__call__\u001b[0;34m(self, iterable)\u001b[0m\n\u001b[1;32m   2005\u001b[0m         \u001b[0mnext\u001b[0m\u001b[0;34m(\u001b[0m\u001b[0moutput\u001b[0m\u001b[0;34m)\u001b[0m\u001b[0;34m\u001b[0m\u001b[0;34m\u001b[0m\u001b[0m\n\u001b[1;32m   2006\u001b[0m \u001b[0;34m\u001b[0m\u001b[0m\n\u001b[0;32m-> 2007\u001b[0;31m         \u001b[0;32mreturn\u001b[0m \u001b[0moutput\u001b[0m \u001b[0;32mif\u001b[0m \u001b[0mself\u001b[0m\u001b[0;34m.\u001b[0m\u001b[0mreturn_generator\u001b[0m \u001b[0;32melse\u001b[0m \u001b[0mlist\u001b[0m\u001b[0;34m(\u001b[0m\u001b[0moutput\u001b[0m\u001b[0;34m)\u001b[0m\u001b[0;34m\u001b[0m\u001b[0;34m\u001b[0m\u001b[0m\n\u001b[0m\u001b[1;32m   2008\u001b[0m \u001b[0;34m\u001b[0m\u001b[0m\n\u001b[1;32m   2009\u001b[0m     \u001b[0;32mdef\u001b[0m \u001b[0m__repr__\u001b[0m\u001b[0;34m(\u001b[0m\u001b[0mself\u001b[0m\u001b[0;34m)\u001b[0m\u001b[0;34m:\u001b[0m\u001b[0;34m\u001b[0m\u001b[0;34m\u001b[0m\u001b[0m\n",
            "\u001b[0;32m/usr/local/lib/python3.10/dist-packages/joblib/parallel.py\u001b[0m in \u001b[0;36m_get_outputs\u001b[0;34m(self, iterator, pre_dispatch)\u001b[0m\n\u001b[1;32m   1648\u001b[0m \u001b[0;34m\u001b[0m\u001b[0m\n\u001b[1;32m   1649\u001b[0m             \u001b[0;32mwith\u001b[0m \u001b[0mself\u001b[0m\u001b[0;34m.\u001b[0m\u001b[0m_backend\u001b[0m\u001b[0;34m.\u001b[0m\u001b[0mretrieval_context\u001b[0m\u001b[0;34m(\u001b[0m\u001b[0;34m)\u001b[0m\u001b[0;34m:\u001b[0m\u001b[0;34m\u001b[0m\u001b[0;34m\u001b[0m\u001b[0m\n\u001b[0;32m-> 1650\u001b[0;31m                 \u001b[0;32myield\u001b[0m \u001b[0;32mfrom\u001b[0m \u001b[0mself\u001b[0m\u001b[0;34m.\u001b[0m\u001b[0m_retrieve\u001b[0m\u001b[0;34m(\u001b[0m\u001b[0;34m)\u001b[0m\u001b[0;34m\u001b[0m\u001b[0;34m\u001b[0m\u001b[0m\n\u001b[0m\u001b[1;32m   1651\u001b[0m \u001b[0;34m\u001b[0m\u001b[0m\n\u001b[1;32m   1652\u001b[0m         \u001b[0;32mexcept\u001b[0m \u001b[0mGeneratorExit\u001b[0m\u001b[0;34m:\u001b[0m\u001b[0;34m\u001b[0m\u001b[0;34m\u001b[0m\u001b[0m\n",
            "\u001b[0;32m/usr/local/lib/python3.10/dist-packages/joblib/parallel.py\u001b[0m in \u001b[0;36m_retrieve\u001b[0;34m(self)\u001b[0m\n\u001b[1;32m   1760\u001b[0m                 (self._jobs[0].get_status(\n\u001b[1;32m   1761\u001b[0m                     timeout=self.timeout) == TASK_PENDING)):\n\u001b[0;32m-> 1762\u001b[0;31m                 \u001b[0mtime\u001b[0m\u001b[0;34m.\u001b[0m\u001b[0msleep\u001b[0m\u001b[0;34m(\u001b[0m\u001b[0;36m0.01\u001b[0m\u001b[0;34m)\u001b[0m\u001b[0;34m\u001b[0m\u001b[0;34m\u001b[0m\u001b[0m\n\u001b[0m\u001b[1;32m   1763\u001b[0m                 \u001b[0;32mcontinue\u001b[0m\u001b[0;34m\u001b[0m\u001b[0;34m\u001b[0m\u001b[0m\n\u001b[1;32m   1764\u001b[0m \u001b[0;34m\u001b[0m\u001b[0m\n",
            "\u001b[0;31mKeyboardInterrupt\u001b[0m: "
          ]
        }
      ],
      "source": [
        "from sklearn.ensemble import RandomForestClassifier\n",
        "from sklearn.model_selection import GridSearchCV\n",
        "\n",
        "# Define the Random Forest classifier\n",
        "rf_smote = RandomForestClassifier(class_weight='balanced', random_state=42)\n",
        "\n",
        "# Define the parameter grid you want to search over\n",
        "param_grid_smote = {\n",
        "    'n_estimators': [50, 100, 200],       # Number of trees\n",
        "    'max_depth': [10, 20, 30],            # Depth of the tree\n",
        "    'min_samples_split': [2, 10],         # Minimum samples to split\n",
        "    'min_samples_leaf': [1, 5]            # Minimum samples at leaf\n",
        "}\n",
        "\n",
        "# Perform GridSearchCV using the SMOTE-adjusted training data\n",
        "grid_rf_smote = GridSearchCV(\n",
        "    estimator=rf_smote,\n",
        "    param_grid=param_grid_smote,\n",
        "    scoring='f1_macro',\n",
        "    cv=5,\n",
        "    verbose=1,\n",
        "    n_jobs=-1\n",
        ")\n",
        "\n",
        "# Fit the GridSearch on the SMOTE-adjusted data\n",
        "grid_rf_smote.fit(X_train_smote, y_train_smote)\n",
        "\n",
        "# Output best parameters and score\n",
        "print(\"Best Parameters for Random Forest using SMOTE data:\", grid_rf_smote.best_params_)\n",
        "print(\"Best F1-Score for Random Forest using SMOTE data:\", grid_rf_smote.best_score_)\n",
        "\n"
      ]
    }
  ],
  "metadata": {
    "colab": {
      "provenance": []
    },
    "kernelspec": {
      "display_name": "Python 3",
      "name": "python3"
    },
    "language_info": {
      "name": "python"
    }
  },
  "nbformat": 4,
  "nbformat_minor": 0
}